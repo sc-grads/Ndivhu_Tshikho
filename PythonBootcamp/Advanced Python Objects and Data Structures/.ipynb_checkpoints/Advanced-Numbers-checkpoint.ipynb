{
 "cells": [
  {
   "cell_type": "code",
   "execution_count": null,
   "id": "b38b8b00-0fae-4986-b116-7eea581ce00a",
   "metadata": {},
   "outputs": [],
   "source": [
    "Advanced Numbers"
   ]
  },
  {
   "cell_type": "code",
   "execution_count": null,
   "id": "69fe410d-e70a-4139-98ab-4cc1ed639ac7",
   "metadata": {},
   "outputs": [],
   "source": [
    "hex(12)"
   ]
  },
  {
   "cell_type": "code",
   "execution_count": null,
   "id": "9406ae1c-9e85-4007-ac63-8bda0b1787b8",
   "metadata": {},
   "outputs": [],
   "source": [
    "hex(512)"
   ]
  },
  {
   "cell_type": "code",
   "execution_count": null,
   "id": "a73e877d-4fcb-4a73-a227-a9095c621281",
   "metadata": {},
   "outputs": [],
   "source": [
    "bin(12345)"
   ]
  },
  {
   "cell_type": "code",
   "execution_count": 5,
   "id": "49fed0a4-949c-4083-a7df-cc5968369dd7",
   "metadata": {},
   "outputs": [
    {
     "data": {
      "text/plain": [
       "16"
      ]
     },
     "execution_count": 5,
     "metadata": {},
     "output_type": "execute_result"
    }
   ],
   "source": [
    "pow(2,4)"
   ]
  },
  {
   "cell_type": "code",
   "execution_count": 6,
   "id": "4bf0b2e9-0e9c-4028-93f4-ba55ff750470",
   "metadata": {},
   "outputs": [
    {
     "data": {
      "text/plain": [
       "1"
      ]
     },
     "execution_count": 6,
     "metadata": {},
     "output_type": "execute_result"
    }
   ],
   "source": [
    "pow(2,4,3)"
   ]
  },
  {
   "cell_type": "code",
   "execution_count": 7,
   "id": "1ced1414-a0f8-40db-bd3a-15aebe043b14",
   "metadata": {},
   "outputs": [
    {
     "data": {
      "text/plain": [
       "2"
      ]
     },
     "execution_count": 7,
     "metadata": {},
     "output_type": "execute_result"
    }
   ],
   "source": [
    "abs(2)"
   ]
  }
 ],
 "metadata": {
  "kernelspec": {
   "display_name": "Python 3 (ipykernel)",
   "language": "python",
   "name": "python3"
  },
  "language_info": {
   "codemirror_mode": {
    "name": "ipython",
    "version": 3
   },
   "file_extension": ".py",
   "mimetype": "text/x-python",
   "name": "python",
   "nbconvert_exporter": "python",
   "pygments_lexer": "ipython3",
   "version": "3.11.7"
  }
 },
 "nbformat": 4,
 "nbformat_minor": 5
}

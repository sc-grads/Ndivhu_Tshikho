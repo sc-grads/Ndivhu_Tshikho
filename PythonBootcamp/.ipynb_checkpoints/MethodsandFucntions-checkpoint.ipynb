{
 "cells": [
  {
   "cell_type": "markdown",
   "id": "1d6b87c1-62a2-4cb5-888f-2ff263f20713",
   "metadata": {},
   "source": [
    "def name_of_function\n",
    "'''\n",
    "docstring explains function\n",
    "'''\n",
    "print(\"hello\"+name)"
   ]
  },
  {
   "cell_type": "code",
   "execution_count": 1,
   "id": "2e845b4e-04ca-4f45-8f9e-516ee138dc82",
   "metadata": {},
   "outputs": [],
   "source": [
    "def say_hello(name):\n",
    "    print(f'Hello:{name}')"
   ]
  },
  {
   "cell_type": "code",
   "execution_count": 48,
   "id": "9e6c4cd3-3980-4091-b67f-fe9b0eb0c309",
   "metadata": {},
   "outputs": [
    {
     "name": "stdout",
     "output_type": "stream",
     "text": [
      "Hello:jose\n"
     ]
    }
   ],
   "source": [
    "say_hello('jose')"
   ]
  },
  {
   "cell_type": "code",
   "execution_count": 6,
   "id": "3f874c47-0c84-4603-9188-f606112a105f",
   "metadata": {},
   "outputs": [],
   "source": [
    "def add_num(num1, num2):\n",
    "    return num1+num2"
   ]
  },
  {
   "cell_type": "code",
   "execution_count": 7,
   "id": "39882a52-f82d-4c44-8de9-dd78bb7b7b50",
   "metadata": {},
   "outputs": [],
   "source": [
    "result = add_num(10,20)"
   ]
  },
  {
   "cell_type": "code",
   "execution_count": 8,
   "id": "7026140c-5334-4b8b-b9d3-2fe08e4967b0",
   "metadata": {},
   "outputs": [
    {
     "data": {
      "text/plain": [
       "30"
      ]
     },
     "execution_count": 8,
     "metadata": {},
     "output_type": "execute_result"
    }
   ],
   "source": [
    "result"
   ]
  },
  {
   "cell_type": "code",
   "execution_count": 9,
   "id": "49327119-b0f9-4915-9451-3bb90130cbda",
   "metadata": {},
   "outputs": [],
   "source": [
    "def print_result(a,b):\n",
    "    print(a+b)"
   ]
  },
  {
   "cell_type": "code",
   "execution_count": 10,
   "id": "fd78918c-439f-40bd-86e3-69cc839092ad",
   "metadata": {},
   "outputs": [],
   "source": [
    "def return_result(a,b):\n",
    "    return a+b"
   ]
  },
  {
   "cell_type": "code",
   "execution_count": 11,
   "id": "ce233764-85f4-4f88-83c3-0f37e713726a",
   "metadata": {},
   "outputs": [
    {
     "name": "stdout",
     "output_type": "stream",
     "text": [
      "40\n"
     ]
    }
   ],
   "source": [
    "printresult =print_result(20,20)\n",
    "printresult"
   ]
  },
  {
   "cell_type": "markdown",
   "id": "74c2908d-28db-43d7-9d9d-72602202f491",
   "metadata": {},
   "source": [
    "functiond with logic"
   ]
  },
  {
   "cell_type": "code",
   "execution_count": 12,
   "id": "c2f2a128-386b-4fdb-b23e-7221a9e0cd8a",
   "metadata": {},
   "outputs": [],
   "source": [
    "def even_check(number):\n",
    "    result = number % 2 == 0\n",
    "    return result"
   ]
  },
  {
   "cell_type": "markdown",
   "id": "e20c72b1-b66c-42b6-b917-c7851df88f9a",
   "metadata": {},
   "source": [
    "# return true if any number is even inside a list"
   ]
  },
  {
   "cell_type": "code",
   "execution_count": 19,
   "id": "f13ba55c-3e7c-4ccd-87a8-1fd40cf39f40",
   "metadata": {},
   "outputs": [],
   "source": [
    "def check_even_list(num_list):\n",
    "\n",
    "    #return all the even numbers in a list.\n",
    "\n",
    "    #placeholder variables\n",
    "    even_numbers = []\n",
    "    for number in num_list:\n",
    "        if number % 2 == 0:\n",
    "            even_numbers.append(number)\n",
    "        else:\n",
    "            pass\n",
    "\n",
    "    return even_numbers "
   ]
  },
  {
   "cell_type": "code",
   "execution_count": 20,
   "id": "3fe6fc13-1845-4e7e-8d63-4e7b167fab80",
   "metadata": {},
   "outputs": [
    {
     "data": {
      "text/plain": [
       "[2, 56, 8]"
      ]
     },
     "execution_count": 20,
     "metadata": {},
     "output_type": "execute_result"
    }
   ],
   "source": [
    "check_even_list([1,2,56,7,8,9])"
   ]
  },
  {
   "cell_type": "markdown",
   "id": "84f37143-532f-4b07-b73e-cd70765f2f87",
   "metadata": {},
   "source": [
    "Tuple Unpacking with functions"
   ]
  },
  {
   "cell_type": "code",
   "execution_count": 21,
   "id": "1e8c4629-94cc-491b-a262-717250d08926",
   "metadata": {},
   "outputs": [],
   "source": [
    "stock_prices = [('APPL', 200), ('GOOG', 400), ('MSFT',100)]"
   ]
  },
  {
   "cell_type": "code",
   "execution_count": 22,
   "id": "e24bb8a7-4cbc-4680-a91e-507b801703b5",
   "metadata": {},
   "outputs": [],
   "source": [
    "work_hours = [('Abby',100),('Billy',400),('Cassie',800)]"
   ]
  },
  {
   "cell_type": "code",
   "execution_count": 25,
   "id": "4dd1afa5-e31a-488b-ba27-e916f7224cb6",
   "metadata": {},
   "outputs": [],
   "source": [
    "def employee_check(work_hours):\n",
    "    current_max = 0\n",
    "    employee_of_month = ''\n",
    "\n",
    "    for employee, hours in work_hours:\n",
    "        if hours > current_max:\n",
    "            current_max = hours\n",
    "            employee_of_month = employee\n",
    "\n",
    "    return (employee_of_month, current_max)\n"
   ]
  },
  {
   "cell_type": "code",
   "execution_count": 26,
   "id": "6ef4be23-be04-4840-ab7f-8d77552839c8",
   "metadata": {},
   "outputs": [
    {
     "data": {
      "text/plain": [
       "('Cassie', 800)"
      ]
     },
     "execution_count": 26,
     "metadata": {},
     "output_type": "execute_result"
    }
   ],
   "source": [
    "employee_check(work_hours)"
   ]
  },
  {
   "cell_type": "markdown",
   "id": "f891177b-1f3a-4aa1-8c32-900f377dfbfd",
   "metadata": {},
   "source": [
    "interactions between Functions"
   ]
  },
  {
   "cell_type": "code",
   "execution_count": 27,
   "id": "10b362d1-30ee-4544-8761-3170963ac903",
   "metadata": {},
   "outputs": [],
   "source": [
    "example = [1,2,3,4,5,6,7]"
   ]
  },
  {
   "cell_type": "code",
   "execution_count": 28,
   "id": "7e1fc351-9170-4fca-9c0c-5c2deb4cfd25",
   "metadata": {},
   "outputs": [],
   "source": [
    "from random import shuffle"
   ]
  },
  {
   "cell_type": "code",
   "execution_count": 29,
   "id": "60efe0d1-17fa-4073-a2f4-72dfc0f58e5a",
   "metadata": {},
   "outputs": [],
   "source": [
    "shuffle(example)"
   ]
  },
  {
   "cell_type": "code",
   "execution_count": 30,
   "id": "0776e378-2682-4d7a-a016-b60a1d88ed05",
   "metadata": {},
   "outputs": [
    {
     "data": {
      "text/plain": [
       "[7, 4, 5, 2, 1, 6, 3]"
      ]
     },
     "execution_count": 30,
     "metadata": {},
     "output_type": "execute_result"
    }
   ],
   "source": [
    "example"
   ]
  },
  {
   "cell_type": "code",
   "execution_count": 36,
   "id": "dc4a6bfa-9c62-4e10-8416-2aedd66ae617",
   "metadata": {},
   "outputs": [],
   "source": [
    "def shuffle_list(mylist):\n",
    "    shuffle(mylist)\n",
    "    return mylist"
   ]
  },
  {
   "cell_type": "code",
   "execution_count": 35,
   "id": "b46a4d86-4fa9-4107-b2af-88da7edf7554",
   "metadata": {},
   "outputs": [
    {
     "data": {
      "text/plain": [
       "[1, 2, 5, 7, 3, 6, 4]"
      ]
     },
     "execution_count": 35,
     "metadata": {},
     "output_type": "execute_result"
    }
   ],
   "source": [
    "result = shuffle_list(example)\n",
    "result\n"
   ]
  },
  {
   "cell_type": "code",
   "execution_count": 37,
   "id": "bfe0f042-3532-4c1c-a0cf-981903cee35e",
   "metadata": {},
   "outputs": [],
   "source": [
    "mylist = ['','O','']"
   ]
  },
  {
   "cell_type": "code",
   "execution_count": 39,
   "id": "3657f33e-d898-44c6-97da-576bfbc08997",
   "metadata": {},
   "outputs": [
    {
     "data": {
      "text/plain": [
       "['', '', 'O']"
      ]
     },
     "execution_count": 39,
     "metadata": {},
     "output_type": "execute_result"
    }
   ],
   "source": [
    "shuffle_list(mylist)"
   ]
  },
  {
   "cell_type": "code",
   "execution_count": 41,
   "id": "c31d0489-ecd0-4e30-b865-4742abc0dfdd",
   "metadata": {},
   "outputs": [],
   "source": [
    "def player_guess():\n",
    "    guess = ''\n",
    "    while guess not in ['0', '1', '2']:\n",
    "        guess = input(\"Pick a number: 0, 1, or 2: \")\n",
    "    return int(guess)\n"
   ]
  },
  {
   "cell_type": "code",
   "execution_count": 42,
   "id": "c73dc5cb-c93f-4644-94cc-e6d857ef3f09",
   "metadata": {},
   "outputs": [
    {
     "name": "stdin",
     "output_type": "stream",
     "text": [
      "Pick a number: 0, 1, or 2:  2\n"
     ]
    },
    {
     "data": {
      "text/plain": [
       "2"
      ]
     },
     "execution_count": 42,
     "metadata": {},
     "output_type": "execute_result"
    }
   ],
   "source": [
    "player_guess()"
   ]
  },
  {
   "cell_type": "code",
   "execution_count": 43,
   "id": "bd61a288-ea23-43ec-8299-8bd3fd5c924e",
   "metadata": {},
   "outputs": [
    {
     "name": "stdin",
     "output_type": "stream",
     "text": [
      "Pick a number: 0, 1, or 2:  1\n"
     ]
    }
   ],
   "source": [
    "myindex = player_guess()"
   ]
  },
  {
   "cell_type": "code",
   "execution_count": 46,
   "id": "06c6756c-be61-4abc-bf82-e70b2eb43bfd",
   "metadata": {},
   "outputs": [],
   "source": [
    "def check_guess(mylist, guess):\n",
    "    if mylist[guess] == 'O':\n",
    "       print('Correct!')\n",
    "    else:\n",
    "        print('Wrong guess!')\n",
    "        print(mylist)"
   ]
  },
  {
   "cell_type": "code",
   "execution_count": 47,
   "id": "bbdd4b40-de10-48a7-9555-1b34b2c91d9c",
   "metadata": {},
   "outputs": [
    {
     "name": "stdin",
     "output_type": "stream",
     "text": [
      "Pick a number: 0, 1, or 2:  2\n"
     ]
    },
    {
     "name": "stdout",
     "output_type": "stream",
     "text": [
      "Correct!\n"
     ]
    }
   ],
   "source": [
    "#Initial list\n",
    "mylist =['','O','']\n",
    "#shuffle list\n",
    "mixedup_list = shuffle_list(mylist)\n",
    "# user guess\n",
    "guess = player_guess()\n",
    "# check guess\n",
    "check_guess(mixedup_list, guess)"
   ]
  },
  {
   "cell_type": "markdown",
   "id": "ad343645-5a29-4fdb-9688-28a59a59f7ca",
   "metadata": {},
   "source": [
    "*args and **kwargs"
   ]
  },
  {
   "cell_type": "code",
   "execution_count": 53,
   "id": "356bf179-1e4a-4555-a610-6cd07292cfe9",
   "metadata": {},
   "outputs": [],
   "source": [
    "def myfunc(a,b):\n",
    "    #Return 5% of the sum of a and b\n",
    "    return sum((a,b))*0.05"
   ]
  },
  {
   "cell_type": "code",
   "execution_count": 54,
   "id": "91a9e71e-a897-4d4c-88d1-e8d4b50a2bb1",
   "metadata": {},
   "outputs": [
    {
     "data": {
      "text/plain": [
       "5.0"
      ]
     },
     "execution_count": 54,
     "metadata": {},
     "output_type": "execute_result"
    }
   ],
   "source": [
    "myfunc(40, 60)"
   ]
  },
  {
   "cell_type": "code",
   "execution_count": 55,
   "id": "79276684-15c2-4ecb-b018-0baabc7f3ad0",
   "metadata": {},
   "outputs": [],
   "source": [
    "def myfunc(*args):\n",
    "    return sum(args)*0.05"
   ]
  },
  {
   "cell_type": "code",
   "execution_count": 56,
   "id": "6d26a0ee-811d-4d2d-8e62-f1e9f0d60f33",
   "metadata": {},
   "outputs": [
    {
     "data": {
      "text/plain": [
       "5.0"
      ]
     },
     "execution_count": 56,
     "metadata": {},
     "output_type": "execute_result"
    }
   ],
   "source": [
    "myfunc(50,50)"
   ]
  },
  {
   "cell_type": "code",
   "execution_count": 57,
   "id": "e289d44f-5720-4c9c-8953-a19cfb1d8a48",
   "metadata": {},
   "outputs": [],
   "source": [
    "def myfunc(**kwargs):\n",
    "    if 'fruit' in kwargs:\n",
    "        print('my fruit of choice is {}'.format(kwargs['fruit']))\n",
    "    else:\n",
    "        print('I did not find any fruit here')"
   ]
  },
  {
   "cell_type": "code",
   "execution_count": 59,
   "id": "86905e3f-d787-41e9-ab67-a835573fb518",
   "metadata": {},
   "outputs": [
    {
     "name": "stdout",
     "output_type": "stream",
     "text": [
      "my fruit of choice is apple\n"
     ]
    }
   ],
   "source": [
    "myfunc(fruit = 'apple', veggie = 'lettuce')"
   ]
  },
  {
   "cell_type": "code",
   "execution_count": 62,
   "id": "b3513324-bf51-4449-8d23-56044e1d8bdd",
   "metadata": {},
   "outputs": [],
   "source": [
    "def myfunc(*args, **kwargs):\n",
    "    print(args)\n",
    "    print(kwargs)\n",
    "    print('I would like {} {}'.format(args[0], kwargs['food']))"
   ]
  },
  {
   "cell_type": "code",
   "execution_count": 63,
   "id": "bc873164-9c48-43e4-893f-53845fefa93a",
   "metadata": {},
   "outputs": [
    {
     "name": "stdout",
     "output_type": "stream",
     "text": [
      "(10, 20, 30)\n",
      "{'fruit': 'orange', 'food': 'eggs', 'animal': 'dog'}\n",
      "I would like 10 eggs\n"
     ]
    }
   ],
   "source": [
    "myfunc(10,20,30, fruit = 'orange', food = 'eggs', animal = 'dog')"
   ]
  },
  {
   "cell_type": "code",
   "execution_count": null,
   "id": "afc9b896-3d9b-4c5b-b0b8-5cebc721d08a",
   "metadata": {},
   "outputs": [],
   "source": []
  }
 ],
 "metadata": {
  "kernelspec": {
   "display_name": "Python 3 (ipykernel)",
   "language": "python",
   "name": "python3"
  },
  "language_info": {
   "codemirror_mode": {
    "name": "ipython",
    "version": 3
   },
   "file_extension": ".py",
   "mimetype": "text/x-python",
   "name": "python",
   "nbconvert_exporter": "python",
   "pygments_lexer": "ipython3",
   "version": "3.11.7"
  }
 },
 "nbformat": 4,
 "nbformat_minor": 5
}

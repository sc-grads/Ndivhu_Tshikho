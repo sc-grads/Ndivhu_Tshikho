{
 "cells": [
  {
   "cell_type": "code",
   "execution_count": 27,
   "id": "9f90a58c-a686-45e5-8c11-e861cb6437e1",
   "metadata": {},
   "outputs": [
    {
     "data": {
      "text/plain": [
       "'C:\\\\Users\\\\NdivhudzannyiT\\\\Documents\\\\Ndivhu_Tshikho\\\\PythonBootcamp\\\\Advanced Python Modules'"
      ]
     },
     "execution_count": 27,
     "metadata": {},
     "output_type": "execute_result"
    }
   ],
   "source": [
    "pwd"
   ]
  },
  {
   "cell_type": "code",
   "execution_count": 28,
   "id": "3bb81090-687e-4897-a283-a31857b8702f",
   "metadata": {},
   "outputs": [],
   "source": [
    "f = open('practice.txt', 'w')\n",
    "f.write('This is a test string')\n",
    "f.close()"
   ]
  },
  {
   "cell_type": "code",
   "execution_count": 29,
   "id": "4d222431-0f15-4c3d-a0bd-bf52bba82a3d",
   "metadata": {},
   "outputs": [],
   "source": [
    "import os"
   ]
  },
  {
   "cell_type": "code",
   "execution_count": 31,
   "id": "008c95a3-0a1a-4a83-b252-2c42b9e017b7",
   "metadata": {},
   "outputs": [
    {
     "data": {
      "text/plain": [
       "'C:\\\\Users\\\\NdivhudzannyiT\\\\Documents\\\\Ndivhu_Tshikho\\\\PythonBootcamp\\\\Advanced Python Modules'"
      ]
     },
     "execution_count": 31,
     "metadata": {},
     "output_type": "execute_result"
    }
   ],
   "source": [
    "os.getcwd()"
   ]
  },
  {
   "cell_type": "code",
   "execution_count": 33,
   "id": "a5528c58-6467-490b-ad59-0798f43904ff",
   "metadata": {},
   "outputs": [
    {
     "data": {
      "text/plain": [
       "['.ipynb_checkpoints', 'Collections.ipynb', 'practice.txt', 'Untitled.ipynb']"
      ]
     },
     "execution_count": 33,
     "metadata": {},
     "output_type": "execute_result"
    }
   ],
   "source": [
    "os.listdir()"
   ]
  },
  {
   "cell_type": "code",
   "execution_count": 34,
   "id": "9335b2bf-83ee-4823-ba90-41a0176bbbe8",
   "metadata": {},
   "outputs": [],
   "source": [
    "import shutil "
   ]
  },
  {
   "cell_type": "code",
   "execution_count": 36,
   "id": "e0935b38-4fa7-4c16-aad0-20b0790ced27",
   "metadata": {},
   "outputs": [
    {
     "data": {
      "text/plain": [
       "'C:\\\\Users\\\\NdivhudzannyiT\\\\practice.txt'"
      ]
     },
     "execution_count": 36,
     "metadata": {},
     "output_type": "execute_result"
    }
   ],
   "source": [
    "shutil.move('practice.txt', 'C:\\\\Users\\\\NdivhudzannyiT')"
   ]
  },
  {
   "cell_type": "code",
   "execution_count": 40,
   "id": "42266a17-28c3-4e75-94de-40d0aeeb04cb",
   "metadata": {},
   "outputs": [],
   "source": [
    "file_path = 'C:\\\\Users\\\\NdivhudzannyiT\\\\Documents\\\\Ndivhu_Tshikho\\\\PythonBootcamp\\\\Advanced Python Modules'\n"
   ]
  },
  {
   "cell_type": "code",
   "execution_count": 43,
   "id": "aad123a0-bee3-4bde-a893-9a1bdab43703",
   "metadata": {},
   "outputs": [
    {
     "name": "stdout",
     "output_type": "stream",
     "text": [
      "Currently looking at C:\\Users\\NdivhudzannyiT\\Documents\\Ndivhu_Tshikho\\PythonBootcamp\\Advanced Python Modules\n",
      "\n",
      "\n",
      "The Subfolders are: \n"
     ]
    },
    {
     "ename": "NameError",
     "evalue": "name 'sub_folders' is not defined",
     "output_type": "error",
     "traceback": [
      "\u001b[1;31m---------------------------------------------------------------------------\u001b[0m",
      "\u001b[1;31mNameError\u001b[0m                                 Traceback (most recent call last)",
      "Cell \u001b[1;32mIn[43], line 5\u001b[0m\n\u001b[0;32m      3\u001b[0m \u001b[38;5;28mprint\u001b[39m(\u001b[38;5;124m'\u001b[39m\u001b[38;5;130;01m\\n\u001b[39;00m\u001b[38;5;124m'\u001b[39m)\n\u001b[0;32m      4\u001b[0m \u001b[38;5;28mprint\u001b[39m(\u001b[38;5;124m'\u001b[39m\u001b[38;5;124mThe Subfolders are: \u001b[39m\u001b[38;5;124m'\u001b[39m)\n\u001b[1;32m----> 5\u001b[0m \u001b[38;5;28;01mfor\u001b[39;00m sub_fold \u001b[38;5;129;01min\u001b[39;00m sub_folders:\n\u001b[0;32m      6\u001b[0m     \u001b[38;5;28mprint\u001b[39m(\u001b[38;5;124mf\u001b[39m\u001b[38;5;124m'\u001b[39m\u001b[38;5;130;01m\\t\u001b[39;00m\u001b[38;5;124m sub_folder: \u001b[39m\u001b[38;5;132;01m{\u001b[39;00msub_fold\u001b[38;5;132;01m}\u001b[39;00m\u001b[38;5;124m'\u001b[39m)\n\u001b[0;32m      7\u001b[0m \u001b[38;5;28mprint\u001b[39m(\u001b[38;5;124m'\u001b[39m\u001b[38;5;130;01m\\n\u001b[39;00m\u001b[38;5;124m'\u001b[39m)\n",
      "\u001b[1;31mNameError\u001b[0m: name 'sub_folders' is not defined"
     ]
    }
   ],
   "source": [
    "for folder, sun_folder,files in os.walk(file_path):\n",
    "    print(f\"Currently looking at {folder}\")\n",
    "    print('\\n')\n",
    "    print('The Subfolders are: ')\n",
    "    for sub_fold in sub_folders:\n",
    "        print(f'\\t sub_folder: {sub_fold}')\n",
    "    print('\\n')\n",
    "    print('the files are: ')\n",
    "    for f in files:\n",
    "        print(f'\\t File: {f}')\n",
    "    print('\\n')"
   ]
  }
 ],
 "metadata": {
  "kernelspec": {
   "display_name": "Python 3 (ipykernel)",
   "language": "python",
   "name": "python3"
  },
  "language_info": {
   "codemirror_mode": {
    "name": "ipython",
    "version": 3
   },
   "file_extension": ".py",
   "mimetype": "text/x-python",
   "name": "python",
   "nbconvert_exporter": "python",
   "pygments_lexer": "ipython3",
   "version": "3.11.7"
  }
 },
 "nbformat": 4,
 "nbformat_minor": 5
}

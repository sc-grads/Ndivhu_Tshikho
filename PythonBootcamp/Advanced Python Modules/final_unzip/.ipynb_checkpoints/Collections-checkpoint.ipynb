{
 "cells": [
  {
   "cell_type": "markdown",
   "id": "73c6a165-44e6-446f-8c63-0a172f2a5577",
   "metadata": {},
   "source": [
    "Collections Module"
   ]
  },
  {
   "cell_type": "code",
   "execution_count": 1,
   "id": "8b7eacdb-0ca2-4be6-b169-eb98af888380",
   "metadata": {},
   "outputs": [],
   "source": [
    "from collections import Counter"
   ]
  },
  {
   "cell_type": "code",
   "execution_count": 2,
   "id": "bbfd00a7-45f0-40c3-9b56-97c2db6f800f",
   "metadata": {},
   "outputs": [],
   "source": [
    "mylist = [1,1,1,1,1,1,2,2,2,2,2,2,2,4,4,4,4,4,4,4]"
   ]
  },
  {
   "cell_type": "code",
   "execution_count": 3,
   "id": "b9677da5-0b20-4d24-8796-c72d21ebb204",
   "metadata": {},
   "outputs": [
    {
     "data": {
      "text/plain": [
       "Counter({2: 7, 4: 7, 1: 6})"
      ]
     },
     "execution_count": 3,
     "metadata": {},
     "output_type": "execute_result"
    }
   ],
   "source": [
    "Counter(mylist)"
   ]
  },
  {
   "cell_type": "code",
   "execution_count": 5,
   "id": "b2c1fd29-606e-46b6-be7e-acc467fba88e",
   "metadata": {},
   "outputs": [],
   "source": [
    "mylist = ['a','a','b',2,2,2,4,4]"
   ]
  },
  {
   "cell_type": "code",
   "execution_count": 6,
   "id": "bcac254e-9b4c-459f-86ca-ba7c25ff51c5",
   "metadata": {},
   "outputs": [
    {
     "data": {
      "text/plain": [
       "Counter({2: 3, 'a': 2, 4: 2, 'b': 1})"
      ]
     },
     "execution_count": 6,
     "metadata": {},
     "output_type": "execute_result"
    }
   ],
   "source": [
    "Counter(mylist)"
   ]
  },
  {
   "cell_type": "code",
   "execution_count": 7,
   "id": "a3b08447-69f3-4ffa-8d8b-236af02c2e67",
   "metadata": {},
   "outputs": [],
   "source": [
    "c = 'aaaaacccccfffffhhhhuuu'"
   ]
  },
  {
   "cell_type": "code",
   "execution_count": 12,
   "id": "2dd80e9b-af92-4d59-b789-0986fddd181f",
   "metadata": {},
   "outputs": [
    {
     "data": {
      "text/plain": [
       "Counter({'a': 5, 'c': 5, 'f': 5, 'h': 4, 'u': 3})"
      ]
     },
     "execution_count": 12,
     "metadata": {},
     "output_type": "execute_result"
    }
   ],
   "source": [
    "Counter(c)"
   ]
  },
  {
   "cell_type": "code",
   "execution_count": 13,
   "id": "c3f3284d-e1fd-44bf-bebf-0ae4ac97343b",
   "metadata": {},
   "outputs": [
    {
     "data": {
      "text/plain": [
       "['a',\n",
       " 'a',\n",
       " 'a',\n",
       " 'a',\n",
       " 'a',\n",
       " 'c',\n",
       " 'c',\n",
       " 'c',\n",
       " 'c',\n",
       " 'c',\n",
       " 'f',\n",
       " 'f',\n",
       " 'f',\n",
       " 'f',\n",
       " 'f',\n",
       " 'h',\n",
       " 'h',\n",
       " 'h',\n",
       " 'h',\n",
       " 'u',\n",
       " 'u',\n",
       " 'u']"
      ]
     },
     "execution_count": 13,
     "metadata": {},
     "output_type": "execute_result"
    }
   ],
   "source": [
    "list(c)"
   ]
  },
  {
   "cell_type": "code",
   "execution_count": 14,
   "id": "a38cde11-ccbb-487b-8ab5-c922ced79f91",
   "metadata": {},
   "outputs": [],
   "source": [
    "from collections import defaultdict"
   ]
  },
  {
   "cell_type": "code",
   "execution_count": 16,
   "id": "7364ee60-9e1c-4d9a-9a1a-4b3fa697b1f3",
   "metadata": {},
   "outputs": [],
   "source": [
    "d = {'a':10}"
   ]
  },
  {
   "cell_type": "code",
   "execution_count": 17,
   "id": "8738dda5-a6e5-48d5-8c3b-8a071dde90ef",
   "metadata": {},
   "outputs": [],
   "source": [
    "d = defaultdict(lambda: 0)"
   ]
  },
  {
   "cell_type": "code",
   "execution_count": 19,
   "id": "92e471b0-3e75-4702-89c8-26cc757ac1b0",
   "metadata": {},
   "outputs": [],
   "source": [
    "d['correct'] = 100"
   ]
  },
  {
   "cell_type": "code",
   "execution_count": 20,
   "id": "c203c372-fa18-4a15-805b-eeec62d2bd8f",
   "metadata": {},
   "outputs": [
    {
     "data": {
      "text/plain": [
       "100"
      ]
     },
     "execution_count": 20,
     "metadata": {},
     "output_type": "execute_result"
    }
   ],
   "source": [
    "d['correct']"
   ]
  },
  {
   "cell_type": "code",
   "execution_count": 21,
   "id": "58e1022f-a3c0-43ba-8688-836ccf26ef9a",
   "metadata": {},
   "outputs": [],
   "source": [
    "mytuple = (10,20.30)"
   ]
  },
  {
   "cell_type": "code",
   "execution_count": 23,
   "id": "814d890d-bd37-4a06-826c-9284d746d9f9",
   "metadata": {},
   "outputs": [],
   "source": [
    "from collections import namedtuple"
   ]
  },
  {
   "cell_type": "code",
   "execution_count": 24,
   "id": "1e3da38e-12b6-4647-8994-63c4841f62d0",
   "metadata": {},
   "outputs": [],
   "source": [
    "Dog = namedtuple('Dog',['age','breed','name'])"
   ]
  },
  {
   "cell_type": "code",
   "execution_count": 25,
   "id": "e6c8082e-f174-40b4-aea9-f9454c5d88f9",
   "metadata": {},
   "outputs": [],
   "source": [
    "sammy = Dog(age = 5, breed = 'Husky', name=  'Same')"
   ]
  },
  {
   "cell_type": "code",
   "execution_count": 26,
   "id": "0b23e04d-0ec1-4354-ae65-04e45bc60854",
   "metadata": {},
   "outputs": [
    {
     "data": {
      "text/plain": [
       "5"
      ]
     },
     "execution_count": 26,
     "metadata": {},
     "output_type": "execute_result"
    }
   ],
   "source": [
    "sammy.age"
   ]
  },
  {
   "cell_type": "code",
   "execution_count": null,
   "id": "dee4806f-2c50-4641-bbb9-e3bef8f96e15",
   "metadata": {},
   "outputs": [],
   "source": []
  }
 ],
 "metadata": {
  "kernelspec": {
   "display_name": "Python 3 (ipykernel)",
   "language": "python",
   "name": "python3"
  },
  "language_info": {
   "codemirror_mode": {
    "name": "ipython",
    "version": 3
   },
   "file_extension": ".py",
   "mimetype": "text/x-python",
   "name": "python",
   "nbconvert_exporter": "python",
   "pygments_lexer": "ipython3",
   "version": "3.11.7"
  }
 },
 "nbformat": 4,
 "nbformat_minor": 5
}

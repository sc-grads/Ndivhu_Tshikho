{
 "cells": [
  {
   "cell_type": "code",
   "execution_count": 1,
   "id": "074b69a9-9880-47a0-9a6d-4d3e62111458",
   "metadata": {},
   "outputs": [],
   "source": [
    "f = open('fileone.txt', 'w+')\n",
    "f.write('ONE FILE')\n",
    "f.close()"
   ]
  },
  {
   "cell_type": "code",
   "execution_count": 2,
   "id": "6da8b3ec-34e7-449f-b1e0-6e38dad84602",
   "metadata": {},
   "outputs": [],
   "source": [
    "f = open('filetwo.txt', 'w+')\n",
    "f.write('TWO FILE')\n",
    "f.close()"
   ]
  },
  {
   "cell_type": "code",
   "execution_count": 7,
   "id": "4353f751-3ad9-4528-a7bd-91ec286aa5a9",
   "metadata": {},
   "outputs": [],
   "source": [
    "import zipfile"
   ]
  },
  {
   "cell_type": "code",
   "execution_count": 5,
   "id": "f613de71-1d10-40af-b09f-4eeae7b854b4",
   "metadata": {},
   "outputs": [],
   "source": [
    "comp_file =  zipfile.ZipFile('comp_file.zip', 'w')"
   ]
  },
  {
   "cell_type": "code",
   "execution_count": 8,
   "id": "13b18cc0-2908-46cf-8e32-dd7250132f1b",
   "metadata": {},
   "outputs": [],
   "source": [
    "comp_file.write('fileone.txt', compress_type = zipfile.ZIP_DEFLATED)"
   ]
  },
  {
   "cell_type": "code",
   "execution_count": 9,
   "id": "f03a2f1b-f611-4efc-8d40-0a5ec26b624a",
   "metadata": {},
   "outputs": [],
   "source": [
    "comp_file.write('filetwo.txt', compress_type = zipfile.ZIP_DEFLATED)"
   ]
  },
  {
   "cell_type": "code",
   "execution_count": 11,
   "id": "6c60f89d-df55-435c-90fb-1ea1096068ca",
   "metadata": {},
   "outputs": [],
   "source": [
    "comp_file.close()"
   ]
  },
  {
   "cell_type": "code",
   "execution_count": 14,
   "id": "15412bbb-4f8b-4f61-9846-c65327c020fe",
   "metadata": {},
   "outputs": [],
   "source": [
    "zip_obj = zipfile.ZipFile('comp_file.Zip', 'r')"
   ]
  },
  {
   "cell_type": "code",
   "execution_count": 16,
   "id": "31347df6-8ad8-4685-8de2-78ca9e07f20d",
   "metadata": {},
   "outputs": [],
   "source": [
    "zip_obj.extractall('extracted_content')"
   ]
  },
  {
   "cell_type": "code",
   "execution_count": 17,
   "id": "f8597680-4fe9-40e3-b732-d4b76c442ca3",
   "metadata": {},
   "outputs": [],
   "source": [
    "import shutil"
   ]
  },
  {
   "cell_type": "code",
   "execution_count": 18,
   "id": "1d7db40c-e4b6-4371-95d9-dc08abf219ac",
   "metadata": {},
   "outputs": [
    {
     "data": {
      "text/plain": [
       "'C:\\\\Users\\\\NdivhudzannyiT\\\\Documents\\\\Ndivhu_Tshikho\\\\PythonBootcamp\\\\Advanced Python Modules'"
      ]
     },
     "execution_count": 18,
     "metadata": {},
     "output_type": "execute_result"
    }
   ],
   "source": [
    "pwd"
   ]
  },
  {
   "cell_type": "code",
   "execution_count": 20,
   "id": "080eac94-ce84-4de9-8d7d-17f0be4362b5",
   "metadata": {},
   "outputs": [],
   "source": [
    "dir_to_zip = \"C:\\\\Users\\\\NdivhudzannyiT\\\\Documents\\\\Ndivhu_Tshikho\\\\PythonBootcamp\\\\Advanced Python Modules\""
   ]
  },
  {
   "cell_type": "code",
   "execution_count": 21,
   "id": "aa44dea0-9c5f-444b-a545-fba20f918745",
   "metadata": {},
   "outputs": [],
   "source": [
    "outpu_file = 'example'"
   ]
  },
  {
   "cell_type": "code",
   "execution_count": 22,
   "id": "b6e243ae-c592-4fd8-acda-25b3476e8a13",
   "metadata": {},
   "outputs": [
    {
     "data": {
      "text/plain": [
       "'C:\\\\Users\\\\NdivhudzannyiT\\\\Documents\\\\Ndivhu_Tshikho\\\\PythonBootcamp\\\\Advanced Python Modules\\\\example.zip'"
      ]
     },
     "execution_count": 22,
     "metadata": {},
     "output_type": "execute_result"
    }
   ],
   "source": [
    "shutil.make_archive(outpu_file, 'zip', dir_to_zip)"
   ]
  },
  {
   "cell_type": "code",
   "execution_count": 23,
   "id": "67e65603-45ac-46e1-9bc1-b258e6820700",
   "metadata": {},
   "outputs": [],
   "source": [
    "shutil.unpack_archive('example.zip', 'final_unzip', 'zip')"
   ]
  }
 ],
 "metadata": {
  "kernelspec": {
   "display_name": "Python 3 (ipykernel)",
   "language": "python",
   "name": "python3"
  },
  "language_info": {
   "codemirror_mode": {
    "name": "ipython",
    "version": 3
   },
   "file_extension": ".py",
   "mimetype": "text/x-python",
   "name": "python",
   "nbconvert_exporter": "python",
   "pygments_lexer": "ipython3",
   "version": "3.11.7"
  }
 },
 "nbformat": 4,
 "nbformat_minor": 5
}

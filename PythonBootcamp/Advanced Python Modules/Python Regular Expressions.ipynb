{
 "cells": [
  {
   "cell_type": "code",
   "execution_count": null,
   "id": "0a095aa5-032e-4e5d-ae4b-48c739c459e7",
   "metadata": {},
   "outputs": [],
   "source": [
    "#Regular Expressions Part 1\n",
    "#allows us to search fro general patterns in a text data.\n",
    "#r\"(\\d{3})-\\d{3}-\\d{4}\"\n",
    "# r\"(\\d\\d\\d)-\\d\\d\\d-\\d\\d\\d\\d\""
   ]
  },
  {
   "cell_type": "code",
   "execution_count": 2,
   "id": "4eaf5cf8-de54-458c-b2d6-251f5b7b0f45",
   "metadata": {},
   "outputs": [],
   "source": [
    "text = \"The agent's phone number is 408-55-1234. Call soon!\""
   ]
  },
  {
   "cell_type": "code",
   "execution_count": 3,
   "id": "b73d4e98-d5af-4a19-b43e-4206454b3134",
   "metadata": {},
   "outputs": [
    {
     "data": {
      "text/plain": [
       "True"
      ]
     },
     "execution_count": 3,
     "metadata": {},
     "output_type": "execute_result"
    }
   ],
   "source": [
    "'phone' in text"
   ]
  },
  {
   "cell_type": "code",
   "execution_count": 4,
   "id": "f067e47a-16c2-4a34-b72b-d313e5d53bf3",
   "metadata": {},
   "outputs": [],
   "source": [
    "import re"
   ]
  },
  {
   "cell_type": "code",
   "execution_count": 8,
   "id": "bb516290-ada8-4979-afc7-3b5a4d166c4c",
   "metadata": {},
   "outputs": [],
   "source": [
    "pattern = 'phone'"
   ]
  },
  {
   "cell_type": "code",
   "execution_count": 9,
   "id": "c3c2c63f-b66a-470b-975e-c6fb60d34b65",
   "metadata": {},
   "outputs": [],
   "source": [
    "match = re.search(pattern, text)"
   ]
  },
  {
   "cell_type": "code",
   "execution_count": 10,
   "id": "a46ef4cd-647a-44eb-80d9-93b0ee7db012",
   "metadata": {},
   "outputs": [
    {
     "data": {
      "text/plain": [
       "(12, 17)"
      ]
     },
     "execution_count": 10,
     "metadata": {},
     "output_type": "execute_result"
    }
   ],
   "source": [
    "match.span()"
   ]
  },
  {
   "cell_type": "code",
   "execution_count": 11,
   "id": "9b84afa2-742d-4559-84ed-dcf1410fdad6",
   "metadata": {},
   "outputs": [
    {
     "data": {
      "text/plain": [
       "12"
      ]
     },
     "execution_count": 11,
     "metadata": {},
     "output_type": "execute_result"
    }
   ],
   "source": [
    "match.start()"
   ]
  },
  {
   "cell_type": "code",
   "execution_count": 12,
   "id": "96211245-a362-4e31-81b9-e56a13cfc8c6",
   "metadata": {},
   "outputs": [
    {
     "data": {
      "text/plain": [
       "17"
      ]
     },
     "execution_count": 12,
     "metadata": {},
     "output_type": "execute_result"
    }
   ],
   "source": [
    "match.end()"
   ]
  },
  {
   "cell_type": "code",
   "execution_count": 13,
   "id": "06ccaf1e-0057-44d6-b4f3-75893a6b8f96",
   "metadata": {},
   "outputs": [
    {
     "name": "stdout",
     "output_type": "stream",
     "text": [
      "<re.Match object; span=(12, 17), match='phone'>\n"
     ]
    }
   ],
   "source": [
    "for match in re.finditer('phone', text):\n",
    "    print(match)"
   ]
  },
  {
   "cell_type": "code",
   "execution_count": null,
   "id": "ac18d8e6-f9f3-4144-977f-2ce97ebb89eb",
   "metadata": {},
   "outputs": [],
   "source": [
    "#Regular Expressions Part 2"
   ]
  },
  {
   "cell_type": "code",
   "execution_count": 14,
   "id": "12ab18f8-f1b4-4f4f-8ad0-3910734a87e3",
   "metadata": {},
   "outputs": [],
   "source": [
    "text = 'My phone number is 408-555-1234'"
   ]
  },
  {
   "cell_type": "code",
   "execution_count": 15,
   "id": "79c69e77-8fb0-4e96-8d61-1c4751729d61",
   "metadata": {},
   "outputs": [],
   "source": [
    "phone = re.search(r'(\\d{3})-\\d{3}-\\d{4}', text)"
   ]
  },
  {
   "cell_type": "code",
   "execution_count": 16,
   "id": "809d388f-81e3-4427-a2ea-d45ca3f170df",
   "metadata": {},
   "outputs": [
    {
     "data": {
      "text/plain": [
       "<re.Match object; span=(19, 31), match='408-555-1234'>"
      ]
     },
     "execution_count": 16,
     "metadata": {},
     "output_type": "execute_result"
    }
   ],
   "source": [
    "phone"
   ]
  },
  {
   "cell_type": "code",
   "execution_count": 1,
   "id": "2fd285bb-874b-4e97-8800-05245568c513",
   "metadata": {},
   "outputs": [
    {
     "name": "stdout",
     "output_type": "stream",
     "text": [
      "Area Code: 123, Exchange: 456, Line Number: 7890\n",
      "Area Code: 987, Exchange: 654, Line Number: 3210\n"
     ]
    }
   ],
   "source": []
  },
  {
   "cell_type": "code",
   "execution_count": 2,
   "id": "f8fb6437-8b82-49cc-9fc0-ecb772897970",
   "metadata": {},
   "outputs": [],
   "source": [
    "import re\n",
    "\n",
    "# Define the pattern\n",
    "phone_pattern = re.compile(r'(\\d{3})-(\\d{3})-(\\d{4})')\n",
    "\n"
   ]
  },
  {
   "cell_type": "code",
   "execution_count": 5,
   "id": "bff251d7-c2c4-4556-9db2-7c9813dbb66c",
   "metadata": {},
   "outputs": [],
   "source": [
    "result = re.search(phone_pattern,text)"
   ]
  },
  {
   "cell_type": "code",
   "execution_count": 6,
   "id": "da24d84b-dc3c-4c03-8426-b8f29e3811cb",
   "metadata": {},
   "outputs": [
    {
     "data": {
      "text/plain": [
       "'123-456-7890'"
      ]
     },
     "execution_count": 6,
     "metadata": {},
     "output_type": "execute_result"
    }
   ],
   "source": [
    "result.group()"
   ]
  },
  {
   "cell_type": "code",
   "execution_count": 3,
   "id": "cb2ea89d-716f-4409-8422-0480890e9b17",
   "metadata": {},
   "outputs": [],
   "source": [
    "# Example text\n",
    "text = \"Here are some phone numbers: 123-456-7890, 987-654-3210.\"\n",
    "\n"
   ]
  },
  {
   "cell_type": "code",
   "execution_count": 4,
   "id": "41717e68-e40f-4ce7-9132-6c0fc651f8f2",
   "metadata": {},
   "outputs": [],
   "source": [
    "# Find all matches\n",
    "matches = phone_pattern.findall(text)\n",
    "\n"
   ]
  },
  {
   "cell_type": "code",
   "execution_count": 7,
   "id": "75ac2c9e-b193-4a07-bc28-25b3adc9f3d0",
   "metadata": {},
   "outputs": [
    {
     "name": "stdout",
     "output_type": "stream",
     "text": [
      "Area Code: 123, Exchange: 456, Line Number: 7890\n",
      "Area Code: 987, Exchange: 654, Line Number: 3210\n"
     ]
    }
   ],
   "source": [
    "# Print the matches\n",
    "for match in matches:\n",
    "    print(f\"Area Code: {match[0]}, Exchange: {match[1]}, Line Number: {match[2]}\")\n"
   ]
  },
  {
   "cell_type": "code",
   "execution_count": null,
   "id": "7ed25144-e261-446c-878c-b9d3de8f4701",
   "metadata": {},
   "outputs": [],
   "source": [
    "#Regular Expressions Part 3"
   ]
  },
  {
   "cell_type": "code",
   "execution_count": 8,
   "id": "4545a9a3-fcdf-40ae-b6d8-94122614ee84",
   "metadata": {},
   "outputs": [
    {
     "data": {
      "text/plain": [
       "<re.Match object; span=(4, 7), match='cat'>"
      ]
     },
     "execution_count": 8,
     "metadata": {},
     "output_type": "execute_result"
    }
   ],
   "source": [
    "re.search(r'cat|dog','The cat is here')"
   ]
  },
  {
   "cell_type": "code",
   "execution_count": 9,
   "id": "355f2154-d1eb-42df-a60f-b107385f1495",
   "metadata": {},
   "outputs": [
    {
     "data": {
      "text/plain": [
       "['cat', 'hat', 'sat']"
      ]
     },
     "execution_count": 9,
     "metadata": {},
     "output_type": "execute_result"
    }
   ],
   "source": [
    "re.findall(r'.at', 'The cat is the hat sat there.')"
   ]
  },
  {
   "cell_type": "code",
   "execution_count": 10,
   "id": "d42a449a-1e33-47ea-9e70-6abc98a16687",
   "metadata": {},
   "outputs": [
    {
     "data": {
      "text/plain": [
       "[]"
      ]
     },
     "execution_count": 10,
     "metadata": {},
     "output_type": "execute_result"
    }
   ],
   "source": [
    "re.findall(r'^\\d', 'The number is 2')"
   ]
  },
  {
   "cell_type": "code",
   "execution_count": 11,
   "id": "3b6e5855-9f6f-409b-9147-067a1ef66325",
   "metadata": {},
   "outputs": [],
   "source": [
    "phrase = 'there are 3 numbers 34 inside 5 this sentence'"
   ]
  },
  {
   "cell_type": "code",
   "execution_count": 12,
   "id": "5e7b35da-a233-4bad-918a-746eb42d3454",
   "metadata": {},
   "outputs": [],
   "source": [
    "pattern = r'[^\\d]'"
   ]
  },
  {
   "cell_type": "code",
   "execution_count": 14,
   "id": "a4c419cb-81a2-45cb-b8cd-3e7b6ca5958e",
   "metadata": {},
   "outputs": [
    {
     "data": {
      "text/plain": [
       "['t',\n",
       " 'h',\n",
       " 'e',\n",
       " 'r',\n",
       " 'e',\n",
       " ' ',\n",
       " 'a',\n",
       " 'r',\n",
       " 'e',\n",
       " ' ',\n",
       " ' ',\n",
       " 'n',\n",
       " 'u',\n",
       " 'm',\n",
       " 'b',\n",
       " 'e',\n",
       " 'r',\n",
       " 's',\n",
       " ' ',\n",
       " ' ',\n",
       " 'i',\n",
       " 'n',\n",
       " 's',\n",
       " 'i',\n",
       " 'd',\n",
       " 'e',\n",
       " ' ',\n",
       " ' ',\n",
       " 't',\n",
       " 'h',\n",
       " 'i',\n",
       " 's',\n",
       " ' ',\n",
       " 's',\n",
       " 'e',\n",
       " 'n',\n",
       " 't',\n",
       " 'e',\n",
       " 'n',\n",
       " 'c',\n",
       " 'e']"
      ]
     },
     "execution_count": 14,
     "metadata": {},
     "output_type": "execute_result"
    }
   ],
   "source": [
    "re.findall(pattern, phrase)"
   ]
  },
  {
   "cell_type": "code",
   "execution_count": 15,
   "id": "82ad111a-5c3e-4fa8-92aa-03cdfdd729c6",
   "metadata": {},
   "outputs": [],
   "source": [
    "test_phrase = 'this is a string! but it has punctuation. How can I remove it?'"
   ]
  },
  {
   "cell_type": "code",
   "execution_count": 16,
   "id": "82bdce4e-83a4-4481-a101-f8ebf4e82e12",
   "metadata": {},
   "outputs": [],
   "source": [
    "clean = re.findall(r'[^!.?]+', test_phrase)"
   ]
  },
  {
   "cell_type": "code",
   "execution_count": 18,
   "id": "ee391c38-9c21-4268-9c50-cc980b9bd02b",
   "metadata": {},
   "outputs": [
    {
     "data": {
      "text/plain": [
       "'this is a string  but it has punctuation  How can I remove it'"
      ]
     },
     "execution_count": 18,
     "metadata": {},
     "output_type": "execute_result"
    }
   ],
   "source": [
    "' '.join(clean) "
   ]
  },
  {
   "cell_type": "code",
   "execution_count": 19,
   "id": "3ea03e13-8284-4231-a3c7-22159f382b5c",
   "metadata": {},
   "outputs": [],
   "source": [
    "text = 'Only find the hypen-words in this sentence. But you do not know how long'"
   ]
  },
  {
   "cell_type": "code",
   "execution_count": 20,
   "id": "af21dd99-ee9c-4a55-8fcd-549a258fcb18",
   "metadata": {},
   "outputs": [],
   "source": [
    "pattern = r'[\\w]+-[\\w]+'"
   ]
  },
  {
   "cell_type": "code",
   "execution_count": 21,
   "id": "ded1d293-5fbf-4926-a6ed-da1007938c6b",
   "metadata": {},
   "outputs": [
    {
     "data": {
      "text/plain": [
       "['hypen-words']"
      ]
     },
     "execution_count": 21,
     "metadata": {},
     "output_type": "execute_result"
    }
   ],
   "source": [
    "re.findall(pattern, text)"
   ]
  }
 ],
 "metadata": {
  "kernelspec": {
   "display_name": "Python 3 (ipykernel)",
   "language": "python",
   "name": "python3"
  },
  "language_info": {
   "codemirror_mode": {
    "name": "ipython",
    "version": 3
   },
   "file_extension": ".py",
   "mimetype": "text/x-python",
   "name": "python",
   "nbconvert_exporter": "python",
   "pygments_lexer": "ipython3",
   "version": "3.11.7"
  }
 },
 "nbformat": 4,
 "nbformat_minor": 5
}

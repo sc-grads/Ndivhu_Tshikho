{
 "cells": [
  {
   "cell_type": "code",
   "execution_count": null,
   "id": "a6cad0bf-8c53-442c-a66a-03e62015dca8",
   "metadata": {},
   "outputs": [],
   "source": []
  },
  {
   "cell_type": "code",
   "execution_count": null,
   "id": "f6bb7ca9-b887-4ebe-a4f5-c255cd00f5bd",
   "metadata": {},
   "outputs": [],
   "source": [
    "\n",
    "\n",
    "### Lambda Functions\n",
    "#A lambda function is a small anonymous function defined with the lambda keyword. \n",
    "#It can have any number of arguments but only one expression. The syntax is:\n",
    "\n",
    "#**Example:**\n",
    "\n",
    "## A lambda function that adds 10 to the input\n",
    "add_10 = lambda x: x + 10\n",
    "print(add_10(5))  \n",
    "\n",
    "\n"
   ]
  },
  {
   "cell_type": "code",
   "execution_count": null,
   "id": "7557f5a2-4a5f-42ae-b09e-5116422832b1",
   "metadata": {},
   "outputs": [],
   "source": [
    "### Map\n",
    "#The map() function applies a given function to all items in an input list (or any iterable) and returns a map object (an iterator).\n",
    "\n",
    "#map(function, iterable)\n",
    "\n",
    "#**Example:**\n",
    "\n",
    "# Using lambda with map to square each number in a list\n",
    "numbers = [1, 2, 3, 4, 5]\n",
    "squared = map(lambda x: x**2, numbers)\n",
    "print(list(squared))  # Output: [1, 4, 9, 16, 25]\n",
    "\n"
   ]
  },
  {
   "cell_type": "code",
   "execution_count": null,
   "id": "869145e1-6936-43a5-905d-7a76b09c1459",
   "metadata": {},
   "outputs": [],
   "source": [
    "### Filter\n",
    "#The filter() function constructs an iterator from elements of an iterable for which a function returns true.\n",
    "\n",
    "#**Syntax:**\n",
    "#filter(function, iterable)\n",
    "\n",
    "\n",
    "**Example:**\n",
    "# Using lambda with filter to get even numbers from a list\n",
    "numbers = [1, 2, 3, 4, 5, 6]\n",
    "even_numbers = filter(lambda x: x % 2 == 0, numbers)\n",
    "print(list(even_numbers))  # Output: [2, 4, 6]\n",
    "\n",
    "\n"
   ]
  },
  {
   "cell_type": "code",
   "execution_count": null,
   "id": "e9eef6b1-dbb3-43d0-8265-ecd0d2d4d76b",
   "metadata": {},
   "outputs": [],
   "source": [
    "### Combining lambda, map(), and filter()\n",
    "#You can combine lambda functions with map() and filter() to create more complex operations.\n",
    "\n",
    "**Example:**\n",
    "\n",
    "# Using map and filter together with lambda\n",
    "numbers = [1, 2, 3, 4, 5, 6, 7, 8, 9, 10]\n",
    "\n",
    "# First, filter out the even numbers\n",
    "even_numbers = filter(lambda x: x % 2 == 0, numbers)\n",
    "\n",
    "# Then, square the filtered even numbers\n",
    "squared_even_numbers = map(lambda x: x**2, even_numbers)\n",
    "\n",
    "print(list(squared_even_numbers))  # Output: [4, 16, 36, 64, 100]"
   ]
  }
 ],
 "metadata": {
  "kernelspec": {
   "display_name": "Python 3 (ipykernel)",
   "language": "python",
   "name": "python3"
  },
  "language_info": {
   "codemirror_mode": {
    "name": "ipython",
    "version": 3
   },
   "file_extension": ".py",
   "mimetype": "text/x-python",
   "name": "python",
   "nbconvert_exporter": "python",
   "pygments_lexer": "ipython3",
   "version": "3.11.7"
  }
 },
 "nbformat": 4,
 "nbformat_minor": 5
}

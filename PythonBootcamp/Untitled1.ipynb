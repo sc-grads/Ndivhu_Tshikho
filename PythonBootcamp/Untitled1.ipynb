{
 "cells": [
  {
   "cell_type": "markdown",
   "id": "f7e9b6b5-378a-4d02-9cad-0ea5f04cc901",
   "metadata": {},
   "source": [
    "class NameOfClass():\n",
    "    def __init__(self, param1,param2):\n",
    "       self.param1 = param1\n",
    "       self.param2 = param2\n",
    "\n",
    "   def some_method(self):\n",
    "       #perform some action\n",
    "       print(self.param1)"
   ]
  },
  {
   "cell_type": "code",
   "execution_count": 1,
   "id": "66a4af03-f380-4e8c-ba87-3ad93b0ca850",
   "metadata": {},
   "outputs": [],
   "source": [
    "#Object Oriented Programming Part One \n",
    "mylist = [1,2,3]"
   ]
  },
  {
   "cell_type": "code",
   "execution_count": 2,
   "id": "e2341539-c2ff-4b7c-a9f2-951cbd9ecf81",
   "metadata": {},
   "outputs": [],
   "source": [
    "myset = set()"
   ]
  },
  {
   "cell_type": "code",
   "execution_count": 4,
   "id": "c9ee8040-9fc9-45fb-b90b-21aab9f35341",
   "metadata": {},
   "outputs": [
    {
     "data": {
      "text/plain": [
       "set"
      ]
     },
     "execution_count": 4,
     "metadata": {},
     "output_type": "execute_result"
    }
   ],
   "source": [
    "type(myset)"
   ]
  },
  {
   "cell_type": "code",
   "execution_count": 22,
   "id": "24dacc1b-9ffa-419e-a77c-5ee33dc25e75",
   "metadata": {},
   "outputs": [],
   "source": [
    "#Object is an in memory instance of a class\n",
    "#class is a blueprint\n",
    "class Dog():\n",
    "\n",
    "    #constructor\n",
    "    def __init__(self, breed, name, spots):\n",
    "\n",
    "        #Attributes are characteristics of an object.\n",
    "        #We take in the argument \n",
    "        #Assign it using self.attribute_name \n",
    "        self.breed = breed\n",
    "        self.name = name \n",
    "\n",
    "        #Expect boolean T/F\n",
    "        self.sports = spots\n",
    "        \n",
    "        "
   ]
  },
  {
   "cell_type": "code",
   "execution_count": 23,
   "id": "d5c4a4a5-67ae-4dd9-ba08-4beb2ce54a6c",
   "metadata": {},
   "outputs": [],
   "source": [
    "my_dog = Dog(breed = 'lab', name = 'Chuki', spots = False)"
   ]
  },
  {
   "cell_type": "code",
   "execution_count": 24,
   "id": "f0b47f5b-4b45-4c78-b8df-341d222e14e4",
   "metadata": {},
   "outputs": [
    {
     "data": {
      "text/plain": [
       "__main__.Dog"
      ]
     },
     "execution_count": 24,
     "metadata": {},
     "output_type": "execute_result"
    }
   ],
   "source": [
    "type(my_dog)"
   ]
  },
  {
   "cell_type": "code",
   "execution_count": 21,
   "id": "f9c0e2c2-bb28-409e-8d82-fab1d463f8ea",
   "metadata": {},
   "outputs": [
    {
     "data": {
      "text/plain": [
       "'lab'"
      ]
     },
     "execution_count": 21,
     "metadata": {},
     "output_type": "execute_result"
    }
   ],
   "source": [
    "my_dog.breed"
   ]
  },
  {
   "cell_type": "markdown",
   "id": "771194ad-417c-423e-8038-b467eb4b5648",
   "metadata": {},
   "source": [
    "Object Oriented Programming Part Two"
   ]
  },
  {
   "cell_type": "code",
   "execution_count": 17,
   "id": "ef95db82-ad04-43d7-90a9-adf1e0c729d9",
   "metadata": {},
   "outputs": [],
   "source": [
    "# Object is an in-memory instance of a class\n",
    "# class is a blueprint\n",
    "class Dog:\n",
    "    \n",
    "    # Class Object Attribute\n",
    "    # Same for any instance of a class\n",
    "    species = 'mammal'\n",
    "\n",
    "    # Constructor\n",
    "    def __init__(self, breed, name):\n",
    "        # Attributes are characteristics of an object.\n",
    "        # We take in the argument \n",
    "        # Assign it using self.attribute_name \n",
    "        self.breed = breed\n",
    "        self.name = name \n",
    "\n",
    "    # Operations/Actions ---> Methods\n",
    "    def bark(self, number):\n",
    "        print('Woof! My name is {} and the number is {}'.format(self.name, number))\n"
   ]
  },
  {
   "cell_type": "code",
   "execution_count": 18,
   "id": "60254964-5a73-41e1-8727-cab1c48a214b",
   "metadata": {},
   "outputs": [
    {
     "name": "stdout",
     "output_type": "stream",
     "text": [
      "Woof! My name is Buddy and the number is 5\n"
     ]
    }
   ],
   "source": [
    "my_dog = Dog(breed='Labrador', name='Buddy')\n",
    "my_dog.bark(5)\n"
   ]
  },
  {
   "cell_type": "code",
   "execution_count": 15,
   "id": "4f2a9ac6-c5a2-4e0d-b5c5-5503ed285bac",
   "metadata": {},
   "outputs": [
    {
     "data": {
      "text/plain": [
       "'lab'"
      ]
     },
     "execution_count": 15,
     "metadata": {},
     "output_type": "execute_result"
    }
   ],
   "source": [
    "my_dog.breed"
   ]
  },
  {
   "cell_type": "code",
   "execution_count": 9,
   "id": "bbbc716e-5f44-496f-b1ac-bba977cda4d6",
   "metadata": {},
   "outputs": [
    {
     "data": {
      "text/plain": [
       "'Chuki'"
      ]
     },
     "execution_count": 9,
     "metadata": {},
     "output_type": "execute_result"
    }
   ],
   "source": [
    "my_dog.name"
   ]
  },
  {
   "cell_type": "code",
   "execution_count": 10,
   "id": "35e8e849-94f5-4432-ab4b-c5159ac5a0eb",
   "metadata": {},
   "outputs": [
    {
     "data": {
      "text/plain": [
       "'mammal'"
      ]
     },
     "execution_count": 10,
     "metadata": {},
     "output_type": "execute_result"
    }
   ],
   "source": [
    "my_dog.species"
   ]
  },
  {
   "cell_type": "code",
   "execution_count": 21,
   "id": "89ee06bb-6e4a-4dee-8f20-ddb92b9f95f2",
   "metadata": {},
   "outputs": [
    {
     "name": "stdout",
     "output_type": "stream",
     "text": [
      "Woof! My name is Buddy and the number is 2\n"
     ]
    }
   ],
   "source": [
    "my_dog.bark(2)"
   ]
  },
  {
   "cell_type": "code",
   "execution_count": 30,
   "id": "aa4890eb-be0a-4e8f-b7c7-ff8652ad8644",
   "metadata": {},
   "outputs": [],
   "source": [
    "class Circle():\n",
    "\n",
    "    #Class Object Attribute\n",
    "    pi = 3.14\n",
    "\n",
    "    def __init__(self, radius = 1):\n",
    "        self.radius = radius\n",
    "        self.area = radius*radius*self.pi\n",
    "\n",
    "    def get_circumference(self):\n",
    "        return self.radius * self.pi * 2\n",
    "\n",
    "    "
   ]
  },
  {
   "cell_type": "code",
   "execution_count": 31,
   "id": "4fdcb243-75ab-46c4-a4cb-c5f5bdc30d61",
   "metadata": {},
   "outputs": [],
   "source": [
    "my_circle = Circle(30)"
   ]
  },
  {
   "cell_type": "code",
   "execution_count": 32,
   "id": "1aceca70-1989-4ce0-b18b-8dea5738940f",
   "metadata": {},
   "outputs": [
    {
     "data": {
      "text/plain": [
       "3.14"
      ]
     },
     "execution_count": 32,
     "metadata": {},
     "output_type": "execute_result"
    }
   ],
   "source": [
    "my_circle.pi"
   ]
  },
  {
   "cell_type": "code",
   "execution_count": 34,
   "id": "3a843222-0d2e-44fc-bdad-165f469d0cc1",
   "metadata": {},
   "outputs": [
    {
     "data": {
      "text/plain": [
       "30"
      ]
     },
     "execution_count": 34,
     "metadata": {},
     "output_type": "execute_result"
    }
   ],
   "source": [
    "my_circle.radius"
   ]
  },
  {
   "cell_type": "markdown",
   "id": "717e2d24-8527-4ea9-a532-e6d144ce4eb3",
   "metadata": {},
   "source": [
    "Object Oriented Programming Part Three"
   ]
  },
  {
   "cell_type": "code",
   "execution_count": 35,
   "id": "98f7ef25-3e34-4434-82e1-b491322fb28c",
   "metadata": {},
   "outputs": [],
   "source": [
    "class Animal():\n",
    "    def __init__(self):\n",
    "        print(\"Animal Created\")\n",
    "\n",
    "    def who_am_i(self):\n",
    "        print(\"I am an animal\")\n",
    "\n",
    "    def eat(self):\n",
    "        print(\"I am eating\")"
   ]
  },
  {
   "cell_type": "code",
   "execution_count": 41,
   "id": "032dfd5c-b8e6-4218-8856-65df46d37e4f",
   "metadata": {},
   "outputs": [],
   "source": [
    "class Dog(Animal):\n",
    "    def __init__(self):\n",
    "        Animal.__init__(self)\n",
    "        print(\"Dog Created\")\n",
    "\n",
    "    def bark(self):\n",
    "        print(\"Woof!\")"
   ]
  },
  {
   "cell_type": "code",
   "execution_count": 42,
   "id": "da440b24-f8f4-4534-a639-dbe6318b6eab",
   "metadata": {},
   "outputs": [
    {
     "name": "stdout",
     "output_type": "stream",
     "text": [
      "Animal Created\n",
      "Dog Created\n"
     ]
    }
   ],
   "source": [
    "mydog = Dog()"
   ]
  },
  {
   "cell_type": "markdown",
   "id": "6fa82a08-a5d6-427c-b170-0efcf3a32d26",
   "metadata": {},
   "source": [
    "Polymorphism"
   ]
  },
  {
   "cell_type": "code",
   "execution_count": 43,
   "id": "fce8b7a0-b4b5-4b70-864a-83336fa2f84b",
   "metadata": {},
   "outputs": [],
   "source": [
    "class Dog():\n",
    "    def __init__(self,name):\n",
    "        self.name = name\n",
    "\n",
    "    def speak(self):\n",
    "        return self.name + \"Says woof!\""
   ]
  },
  {
   "cell_type": "code",
   "execution_count": 44,
   "id": "c5a3f186-7719-42c1-a037-bce059244491",
   "metadata": {},
   "outputs": [],
   "source": [
    "class Cat():\n",
    "    def __init__(self,name):\n",
    "        self.name = name\n",
    "\n",
    "    def speak(self):\n",
    "        return self.name + \"Says meow!\""
   ]
  },
  {
   "cell_type": "code",
   "execution_count": 45,
   "id": "acbb61b4-6319-4c23-b19a-3725aab9aa51",
   "metadata": {},
   "outputs": [
    {
     "name": "stdout",
     "output_type": "stream",
     "text": [
      "nikoSays woof!\n"
     ]
    }
   ],
   "source": [
    "niko = Dog('niko')\n",
    "felix = Cat('felix')\n",
    "\n",
    "print(niko.speak())"
   ]
  }
 ],
 "metadata": {
  "kernelspec": {
   "display_name": "Python 3 (ipykernel)",
   "language": "python",
   "name": "python3"
  },
  "language_info": {
   "codemirror_mode": {
    "name": "ipython",
    "version": 3
   },
   "file_extension": ".py",
   "mimetype": "text/x-python",
   "name": "python",
   "nbconvert_exporter": "python",
   "pygments_lexer": "ipython3",
   "version": "3.11.7"
  }
 },
 "nbformat": 4,
 "nbformat_minor": 5
}

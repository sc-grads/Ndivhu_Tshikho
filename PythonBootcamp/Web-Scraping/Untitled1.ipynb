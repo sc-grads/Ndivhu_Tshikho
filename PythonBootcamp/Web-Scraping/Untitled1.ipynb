{
 "cells": [
  {
   "cell_type": "code",
   "execution_count": null,
   "id": "63120208-3294-496a-aa3a-6f58482e5cac",
   "metadata": {},
   "outputs": [],
   "source": [
    "# Web scraping is a general term for techniques involving \n",
    "# automating the gathering of data from a website"
   ]
  },
  {
   "cell_type": "code",
   "execution_count": null,
   "id": "2da21fc0-d415-458c-85f6-04d9204f7666",
   "metadata": {},
   "outputs": [],
   "source": [
    "# Rules of Web Scraping \n",
    "# Always try to get permission before scraping!\n",
    "# if you make too many scraping attempts or requests your IP Address could get blocked \n",
    "# Some sites automaticlly block scraping sofware."
   ]
  },
  {
   "cell_type": "code",
   "execution_count": null,
   "id": "bf44cb5a-1875-4f0e-8366-a570ed7ab5e0",
   "metadata": {},
   "outputs": [],
   "source": [
    "# Limitation of web scraping\n",
    "# In general every website is unique, which means every web scraping script is unique.\n",
    "# A slight change or update to a website may completely break your web scraping script.\n"
   ]
  },
  {
   "cell_type": "code",
   "execution_count": null,
   "id": "ecbacfa0-2418-49eb-b972-4232df8105d9",
   "metadata": {},
   "outputs": [],
   "source": [
    "# HTML is Hypertext Markup Langauge and is used to create the basic structure and cntent of a webpage\n",
    "'''\n",
    "<!DOCTYPE html>  \n",
    "<html>  op\n",
    "    <head>\n",
    "        <title>Title on Browser Tab</title>\n",
    "    </head>\n",
    "    <body>\n",
    "        <h1> Website Header </h1>\n",
    "        <p> Some Paragraph </p>\n",
    "    <body>\n",
    "</html>\n",
    "'''\n",
    "\n",
    "1.<DOCTYPE html> HTML documents will always start with this type declaration, letting the browser know its an HTML file.\n",
    "2. The component blocks of the HTML document are placed between <html> and </html>.\n",
    "3. Meta data and script connections (like a link to a CSS file or a JS file) are often placed in the <head> block.\n",
    "4. The <title> tag block defines the title of the webpage (its what shows up in the tab of a website you're visiting).\n",
    "5. Is between <body> and </body> tags are the blocks that will be visible to the site visitor.\n",
    "6. Headings are defined by the <h1> through <h6> tags, where the number represents the size of the heading.\n",
    "7. Paragraphs are defined by the <p> tag, this is essentially just normal text on the website.\n",
    "\n",
    "There are many more tags than just these, such as <a> for hyperlinks, <table> for tables, <tr> for table rows, and <td> for table columns, and more!\n",
    "\n",
    "# CSS stands for Cascading Style Sheets.\n",
    "# gives \"style\" to a website, changing colors and fonts.\n",
    "# uses tags to define what Html elemts will be styled.\n",
    "#is used for the design and style of a web page, where elements are placed and how it looks.\n",
    "\n",
    "#para2{\n",
    "   color:red\n",
    "}\n",
    "\n",
    ".cool{\n",
    "    colo: red;\n",
    "font-family: verdana;\n",
    "\n",
    "# JavaScript is used to define the interactive element of a webpage."
   ]
  }
 ],
 "metadata": {
  "kernelspec": {
   "display_name": "Python 3 (ipykernel)",
   "language": "python",
   "name": "python3"
  },
  "language_info": {
   "codemirror_mode": {
    "name": "ipython",
    "version": 3
   },
   "file_extension": ".py",
   "mimetype": "text/x-python",
   "name": "python",
   "nbconvert_exporter": "python",
   "pygments_lexer": "ipython3",
   "version": "3.11.7"
  }
 },
 "nbformat": 4,
 "nbformat_minor": 5
}

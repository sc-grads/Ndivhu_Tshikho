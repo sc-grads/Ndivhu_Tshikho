{
 "cells": [
  {
   "cell_type": "markdown",
   "id": "87678752-1199-4772-9fbf-8cc1a42c0f75",
   "metadata": {},
   "source": []
  },
  {
   "cell_type": "code",
   "execution_count": 2,
   "id": "229df1db-36b9-4a36-8321-7f08ff2a78de",
   "metadata": {},
   "outputs": [
    {
     "name": "stdout",
     "output_type": "stream",
     "text": [
      "Ass went well!\n",
      "20\n"
     ]
    }
   ],
   "source": [
    "try:\n",
    "    #Want to attempt this code\n",
    "    #Ma have error\n",
    "    result = 10 + 10\n",
    "except:\n",
    "    print('Hey it looks like you aint adding correctly!')\n",
    "else:\n",
    "    print('Ass went well!')\n",
    "    print(result)"
   ]
  },
  {
   "cell_type": "code",
   "execution_count": 5,
   "id": "eeecdf53-2802-4620-bafb-61bee4fc32c7",
   "metadata": {},
   "outputs": [
    {
     "name": "stdout",
     "output_type": "stream",
     "text": [
      "I always run\n"
     ]
    }
   ],
   "source": [
    "try:\n",
    "    f = open('testfile', 'w')\n",
    "    f.write('write a test line')\n",
    "except TypeError:\n",
    "    print('There was a type error!')\n",
    "except OSError:\n",
    "    print('Hey you have an OS Error')\n",
    "finally:\n",
    "    print('I always run')"
   ]
  },
  {
   "cell_type": "code",
   "execution_count": 6,
   "id": "e4233dbd-3fce-41e2-8b58-8f341ebfb5df",
   "metadata": {},
   "outputs": [],
   "source": [
    "def ask_for_int():\n",
    " while True:\n",
    "    try:\n",
    "        result = int(input(\"Please provide number: \"))\n",
    "    except:\n",
    "        print(\"Whoopw! Tha is not a number\")\n",
    "        continue\n",
    "\n",
    "    else:\n",
    "        print(\"Yes thank you\")\n",
    "        break\n",
    "    finally:\n",
    "        print('End of try/except/finally')\n"
   ]
  },
  {
   "cell_type": "code",
   "execution_count": 7,
   "id": "233f6965-a696-43e4-9a61-500caf7c5a40",
   "metadata": {},
   "outputs": [
    {
     "name": "stdin",
     "output_type": "stream",
     "text": [
      "Please provide number:  2.9\n"
     ]
    },
    {
     "name": "stdout",
     "output_type": "stream",
     "text": [
      "Whoopw! Tha is not a number\n",
      "End of try/except/finally\n"
     ]
    },
    {
     "name": "stdin",
     "output_type": "stream",
     "text": [
      "Please provide number:  10\n"
     ]
    },
    {
     "name": "stdout",
     "output_type": "stream",
     "text": [
      "Yes thank you\n",
      "End of try/except/finally\n"
     ]
    }
   ],
   "source": [
    "ask_for_int()"
   ]
  }
 ],
 "metadata": {
  "kernelspec": {
   "display_name": "Python 3 (ipykernel)",
   "language": "python",
   "name": "python3"
  },
  "language_info": {
   "codemirror_mode": {
    "name": "ipython",
    "version": 3
   },
   "file_extension": ".py",
   "mimetype": "text/x-python",
   "name": "python",
   "nbconvert_exporter": "python",
   "pygments_lexer": "ipython3",
   "version": "3.11.7"
  }
 },
 "nbformat": 4,
 "nbformat_minor": 5
}

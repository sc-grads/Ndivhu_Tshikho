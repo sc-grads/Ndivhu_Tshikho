{
 "cells": [
  {
   "cell_type": "code",
   "execution_count": 1,
   "id": "dabec099-aaa9-45e5-a4da-885bafa9aca8",
   "metadata": {},
   "outputs": [
    {
     "data": {
      "text/plain": [
       "2"
      ]
     },
     "execution_count": 1,
     "metadata": {},
     "output_type": "execute_result"
    }
   ],
   "source": [
    "1+1"
   ]
  },
  {
   "cell_type": "code",
   "execution_count": 2,
   "id": "a69203c3-eb23-4396-97e4-83f9fe89736e",
   "metadata": {},
   "outputs": [
    {
     "data": {
      "text/plain": [
       "0"
      ]
     },
     "execution_count": 2,
     "metadata": {},
     "output_type": "execute_result"
    }
   ],
   "source": [
    "4%2"
   ]
  },
  {
   "cell_type": "code",
   "execution_count": 3,
   "id": "b765c7c4-25af-4fd6-8423-5b5b6f97eb55",
   "metadata": {},
   "outputs": [],
   "source": [
    "var =2"
   ]
  },
  {
   "cell_type": "code",
   "execution_count": 4,
   "id": "b88dd928-db44-4715-8986-9c61778d6e42",
   "metadata": {},
   "outputs": [
    {
     "data": {
      "text/plain": [
       "2"
      ]
     },
     "execution_count": 4,
     "metadata": {},
     "output_type": "execute_result"
    }
   ],
   "source": [
    "var"
   ]
  },
  {
   "cell_type": "code",
   "execution_count": 5,
   "id": "e2f63ed2-7a24-4869-8805-d1faa5669934",
   "metadata": {},
   "outputs": [],
   "source": [
    "x = 2\n",
    "y =3"
   ]
  },
  {
   "cell_type": "code",
   "execution_count": 6,
   "id": "5efe2720-e2ff-4e47-b08b-37ec7cbf8b33",
   "metadata": {},
   "outputs": [
    {
     "data": {
      "text/plain": [
       "5"
      ]
     },
     "execution_count": 6,
     "metadata": {},
     "output_type": "execute_result"
    }
   ],
   "source": [
    "x+y"
   ]
  },
  {
   "cell_type": "code",
   "execution_count": 7,
   "id": "19f98eea-7667-42e7-9de5-0959a13c44bb",
   "metadata": {},
   "outputs": [],
   "source": [
    "#Strings"
   ]
  },
  {
   "cell_type": "code",
   "execution_count": 8,
   "id": "c221214c-dde4-4317-b423-e5c88a533fbe",
   "metadata": {},
   "outputs": [
    {
     "data": {
      "text/plain": [
       "'Double  quotes'"
      ]
     },
     "execution_count": 8,
     "metadata": {},
     "output_type": "execute_result"
    }
   ],
   "source": [
    "\"Double  quotes\""
   ]
  },
  {
   "cell_type": "code",
   "execution_count": 9,
   "id": "0a63f356-8712-45df-b278-57005595ba48",
   "metadata": {},
   "outputs": [],
   "source": [
    "m = 'Hello'"
   ]
  },
  {
   "cell_type": "code",
   "execution_count": 10,
   "id": "fb1ea449-ef57-497f-aea9-13b79d821eb5",
   "metadata": {},
   "outputs": [
    {
     "data": {
      "text/plain": [
       "'Hello'"
      ]
     },
     "execution_count": 10,
     "metadata": {},
     "output_type": "execute_result"
    }
   ],
   "source": [
    "m"
   ]
  },
  {
   "cell_type": "code",
   "execution_count": 11,
   "id": "9eddc840-87b6-409c-b7c3-247c6d41e610",
   "metadata": {},
   "outputs": [
    {
     "name": "stdout",
     "output_type": "stream",
     "text": [
      "Hello\n"
     ]
    }
   ],
   "source": [
    "print(m)\n"
   ]
  },
  {
   "cell_type": "code",
   "execution_count": 12,
   "id": "38cab485-3674-4827-b60d-90cfefac4dc1",
   "metadata": {},
   "outputs": [],
   "source": [
    "num = 13"
   ]
  },
  {
   "cell_type": "code",
   "execution_count": 13,
   "id": "25ff1b16-968a-4447-a157-7f92b5ec9572",
   "metadata": {},
   "outputs": [],
   "source": [
    "name = \"Sam\""
   ]
  },
  {
   "cell_type": "code",
   "execution_count": 15,
   "id": "a816586d-92ba-4388-b29a-123dfa021b8b",
   "metadata": {},
   "outputs": [
    {
     "name": "stdout",
     "output_type": "stream",
     "text": [
      "My number is 13 and my name is Sam\n"
     ]
    }
   ],
   "source": [
    "print(\"My number is {} and my name is {}\".format(num, name))"
   ]
  },
  {
   "cell_type": "code",
   "execution_count": 16,
   "id": "08d4cd48-78ee-4ba7-88de-5f845ed40756",
   "metadata": {},
   "outputs": [],
   "source": [
    "s = \"abcdefghijk\"\n"
   ]
  },
  {
   "cell_type": "code",
   "execution_count": 17,
   "id": "f51e558f-c82e-49ae-a6b3-6fb34c5de8f8",
   "metadata": {},
   "outputs": [
    {
     "data": {
      "text/plain": [
       "'abc'"
      ]
     },
     "execution_count": 17,
     "metadata": {},
     "output_type": "execute_result"
    }
   ],
   "source": [
    "s[:3]"
   ]
  },
  {
   "cell_type": "code",
   "execution_count": 18,
   "id": "65617cd4-d0b0-436f-9e05-08da19ff1d60",
   "metadata": {},
   "outputs": [
    {
     "data": {
      "text/plain": [
       "'def'"
      ]
     },
     "execution_count": 18,
     "metadata": {},
     "output_type": "execute_result"
    }
   ],
   "source": [
    "s[3:6]"
   ]
  },
  {
   "cell_type": "code",
   "execution_count": 19,
   "id": "29672e8a-9805-4f8f-be71-471ef48b4502",
   "metadata": {},
   "outputs": [],
   "source": [
    "my_list = ['a','b','c']"
   ]
  },
  {
   "cell_type": "code",
   "execution_count": 20,
   "id": "1f688745-723f-4ff1-aac4-619ba103491b",
   "metadata": {},
   "outputs": [
    {
     "data": {
      "text/plain": [
       "['a', 'b', 'c']"
      ]
     },
     "execution_count": 20,
     "metadata": {},
     "output_type": "execute_result"
    }
   ],
   "source": [
    "my_list"
   ]
  },
  {
   "cell_type": "code",
   "execution_count": 21,
   "id": "7a859626-eb5c-41f4-a6db-e638a6e230d2",
   "metadata": {},
   "outputs": [],
   "source": [
    "my_list.append('d')"
   ]
  },
  {
   "cell_type": "code",
   "execution_count": 22,
   "id": "0a7f6d32-3588-475c-ab8d-1ca474564ed2",
   "metadata": {},
   "outputs": [
    {
     "data": {
      "text/plain": [
       "['a', 'b', 'c', 'd']"
      ]
     },
     "execution_count": 22,
     "metadata": {},
     "output_type": "execute_result"
    }
   ],
   "source": [
    "my_list"
   ]
  },
  {
   "cell_type": "code",
   "execution_count": 24,
   "id": "f44ed9ad-3337-450c-b515-1d8e1cf2228b",
   "metadata": {},
   "outputs": [],
   "source": [
    "nest = [1,2,3,[4,5,['Target']]]"
   ]
  },
  {
   "cell_type": "code",
   "execution_count": 25,
   "id": "0814d06b-f536-4554-a73a-ff2040087726",
   "metadata": {},
   "outputs": [
    {
     "name": "stdout",
     "output_type": "stream",
     "text": [
      "Target\n"
     ]
    }
   ],
   "source": [
    "print(nest[3][2][0])"
   ]
  },
  {
   "cell_type": "code",
   "execution_count": 26,
   "id": "660dd54f-696d-465a-84c1-908da8dfe36b",
   "metadata": {},
   "outputs": [],
   "source": [
    "#dictionaries"
   ]
  },
  {
   "cell_type": "code",
   "execution_count": 27,
   "id": "7387becc-fc57-4c8f-a8af-f141435a3bcd",
   "metadata": {},
   "outputs": [],
   "source": [
    "d= {'key1': 'value', 'key2':'value2'}"
   ]
  },
  {
   "cell_type": "code",
   "execution_count": 28,
   "id": "d4566cc6-6a83-4c5e-8039-fb17048748d0",
   "metadata": {},
   "outputs": [
    {
     "data": {
      "text/plain": [
       "'value'"
      ]
     },
     "execution_count": 28,
     "metadata": {},
     "output_type": "execute_result"
    }
   ],
   "source": [
    "d['key1']"
   ]
  },
  {
   "cell_type": "code",
   "execution_count": 30,
   "id": "15762f59-53c7-4fb8-b096-456f4c359fb7",
   "metadata": {},
   "outputs": [],
   "source": [
    "#tuples and list\n"
   ]
  },
  {
   "cell_type": "code",
   "execution_count": 31,
   "id": "d364f56d-9649-4d20-9862-7170fe6055d9",
   "metadata": {},
   "outputs": [],
   "source": [
    "my_list = [1,2,3]"
   ]
  },
  {
   "cell_type": "code",
   "execution_count": 32,
   "id": "a5a6e6f6-a25c-452c-a0ef-80eee53eb05e",
   "metadata": {},
   "outputs": [],
   "source": [
    "t = (1,2,3)"
   ]
  },
  {
   "cell_type": "code",
   "execution_count": 33,
   "id": "a76cf156-12ed-44fa-a416-25817625ee54",
   "metadata": {},
   "outputs": [
    {
     "data": {
      "text/plain": [
       "1"
      ]
     },
     "execution_count": 33,
     "metadata": {},
     "output_type": "execute_result"
    }
   ],
   "source": [
    "t[0]"
   ]
  },
  {
   "cell_type": "code",
   "execution_count": 34,
   "id": "fdd5c732-dc0b-4c65-8230-ec3bef7581a6",
   "metadata": {},
   "outputs": [
    {
     "data": {
      "text/plain": [
       "1"
      ]
     },
     "execution_count": 34,
     "metadata": {},
     "output_type": "execute_result"
    }
   ],
   "source": [
    "my_list[0]"
   ]
  },
  {
   "cell_type": "code",
   "execution_count": 35,
   "id": "5769372c-a879-4dab-9a5f-7f7261273a4e",
   "metadata": {},
   "outputs": [
    {
     "data": {
      "text/plain": [
       "False"
      ]
     },
     "execution_count": 35,
     "metadata": {},
     "output_type": "execute_result"
    }
   ],
   "source": [
    "1== 2"
   ]
  },
  {
   "cell_type": "code",
   "execution_count": 36,
   "id": "7527d03c-33db-4ba7-9c71-0f8adcc54cfe",
   "metadata": {},
   "outputs": [
    {
     "data": {
      "text/plain": [
       "True"
      ]
     },
     "execution_count": 36,
     "metadata": {},
     "output_type": "execute_result"
    }
   ],
   "source": [
    "1 != 3"
   ]
  },
  {
   "cell_type": "code",
   "execution_count": 37,
   "id": "ce9cdf74-9626-459c-bf77-84b11f507880",
   "metadata": {},
   "outputs": [
    {
     "data": {
      "text/plain": [
       "True"
      ]
     },
     "execution_count": 37,
     "metadata": {},
     "output_type": "execute_result"
    }
   ],
   "source": [
    "'hi' != 'bye'"
   ]
  },
  {
   "cell_type": "code",
   "execution_count": 38,
   "id": "950db358-d388-4f11-8266-cce8d2ad8cec",
   "metadata": {},
   "outputs": [
    {
     "data": {
      "text/plain": [
       "False"
      ]
     },
     "execution_count": 38,
     "metadata": {},
     "output_type": "execute_result"
    }
   ],
   "source": [
    "1<2 and 2>3"
   ]
  },
  {
   "cell_type": "code",
   "execution_count": 44,
   "id": "45fa5c0b-9278-4a8d-820c-348458882fcd",
   "metadata": {},
   "outputs": [
    {
     "name": "stdout",
     "output_type": "stream",
     "text": [
      "4\n"
     ]
    }
   ],
   "source": [
    "if 1<2:\n",
    "    x =2 + 2\n",
    "    print(x)"
   ]
  },
  {
   "cell_type": "code",
   "execution_count": 45,
   "id": "ba6f2a6d-bec5-4f57-aaf6-269edc7083dd",
   "metadata": {},
   "outputs": [],
   "source": [
    "seq = [1,2,3,4,5,6]"
   ]
  },
  {
   "cell_type": "code",
   "execution_count": 46,
   "id": "46fc05fd-f03a-41db-b64d-0493b7802ddf",
   "metadata": {},
   "outputs": [
    {
     "name": "stdout",
     "output_type": "stream",
     "text": [
      "1\n",
      "2\n",
      "3\n",
      "4\n",
      "5\n",
      "6\n"
     ]
    }
   ],
   "source": [
    "for num in seq:\n",
    "    print(num)"
   ]
  },
  {
   "cell_type": "code",
   "execution_count": null,
   "id": "58fd5e94-5908-427d-987f-1c88803648b9",
   "metadata": {},
   "outputs": [],
   "source": [
    "\n",
    "    "
   ]
  },
  {
   "cell_type": "code",
   "execution_count": null,
   "id": "8ba79a78-5b3a-455f-8e80-a272e0f3ca6a",
   "metadata": {},
   "outputs": [],
   "source": [
    "i = 1\n",
    "\n",
    "while i < 5:\n",
    "    i = i+1\n",
    "    print('i is: {}',format(i))"
   ]
  },
  {
   "cell_type": "code",
   "execution_count": null,
   "id": "49071eef-98a1-4fe1-978e-3a188abce903",
   "metadata": {},
   "outputs": [],
   "source": [
    "for x in range(0,5):\n",
    "    print(x)"
   ]
  },
  {
   "cell_type": "code",
   "execution_count": null,
   "id": "c9682f25-6181-4776-b85d-9ecb039bebd2",
   "metadata": {},
   "outputs": [],
   "source": []
  }
 ],
 "metadata": {
  "kernelspec": {
   "display_name": "Python 3 (ipykernel)",
   "language": "python",
   "name": "python3"
  },
  "language_info": {
   "codemirror_mode": {
    "name": "ipython",
    "version": 3
   },
   "file_extension": ".py",
   "mimetype": "text/x-python",
   "name": "python",
   "nbconvert_exporter": "python",
   "pygments_lexer": "ipython3",
   "version": "3.12.7"
  }
 },
 "nbformat": 4,
 "nbformat_minor": 5
}

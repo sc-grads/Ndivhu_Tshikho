{
 "cells": [
  {
   "cell_type": "code",
   "execution_count": 1,
   "id": "dabec099-aaa9-45e5-a4da-885bafa9aca8",
   "metadata": {},
   "outputs": [
    {
     "data": {
      "text/plain": [
       "2"
      ]
     },
     "execution_count": 1,
     "metadata": {},
     "output_type": "execute_result"
    }
   ],
   "source": [
    "1+1"
   ]
  },
  {
   "cell_type": "code",
   "execution_count": 2,
   "id": "a69203c3-eb23-4396-97e4-83f9fe89736e",
   "metadata": {},
   "outputs": [
    {
     "data": {
      "text/plain": [
       "0"
      ]
     },
     "execution_count": 2,
     "metadata": {},
     "output_type": "execute_result"
    }
   ],
   "source": [
    "4%2"
   ]
  },
  {
   "cell_type": "code",
   "execution_count": 3,
   "id": "b765c7c4-25af-4fd6-8423-5b5b6f97eb55",
   "metadata": {},
   "outputs": [],
   "source": [
    "var =2"
   ]
  },
  {
   "cell_type": "code",
   "execution_count": 4,
   "id": "b88dd928-db44-4715-8986-9c61778d6e42",
   "metadata": {},
   "outputs": [
    {
     "data": {
      "text/plain": [
       "2"
      ]
     },
     "execution_count": 4,
     "metadata": {},
     "output_type": "execute_result"
    }
   ],
   "source": [
    "var"
   ]
  },
  {
   "cell_type": "code",
   "execution_count": 5,
   "id": "e2f63ed2-7a24-4869-8805-d1faa5669934",
   "metadata": {},
   "outputs": [],
   "source": [
    "x = 2\n",
    "y =3"
   ]
  },
  {
   "cell_type": "code",
   "execution_count": 6,
   "id": "5efe2720-e2ff-4e47-b08b-37ec7cbf8b33",
   "metadata": {},
   "outputs": [
    {
     "data": {
      "text/plain": [
       "5"
      ]
     },
     "execution_count": 6,
     "metadata": {},
     "output_type": "execute_result"
    }
   ],
   "source": [
    "x+y"
   ]
  },
  {
   "cell_type": "code",
   "execution_count": 7,
   "id": "19f98eea-7667-42e7-9de5-0959a13c44bb",
   "metadata": {},
   "outputs": [],
   "source": [
    "#Strings"
   ]
  },
  {
   "cell_type": "code",
   "execution_count": 8,
   "id": "c221214c-dde4-4317-b423-e5c88a533fbe",
   "metadata": {},
   "outputs": [
    {
     "data": {
      "text/plain": [
       "'Double  quotes'"
      ]
     },
     "execution_count": 8,
     "metadata": {},
     "output_type": "execute_result"
    }
   ],
   "source": [
    "\"Double  quotes\""
   ]
  },
  {
   "cell_type": "code",
   "execution_count": 9,
   "id": "0a63f356-8712-45df-b278-57005595ba48",
   "metadata": {},
   "outputs": [],
   "source": [
    "m = 'Hello'"
   ]
  },
  {
   "cell_type": "code",
   "execution_count": 10,
   "id": "fb1ea449-ef57-497f-aea9-13b79d821eb5",
   "metadata": {},
   "outputs": [
    {
     "data": {
      "text/plain": [
       "'Hello'"
      ]
     },
     "execution_count": 10,
     "metadata": {},
     "output_type": "execute_result"
    }
   ],
   "source": [
    "m"
   ]
  },
  {
   "cell_type": "code",
   "execution_count": 11,
   "id": "9eddc840-87b6-409c-b7c3-247c6d41e610",
   "metadata": {},
   "outputs": [
    {
     "name": "stdout",
     "output_type": "stream",
     "text": [
      "Hello\n"
     ]
    }
   ],
   "source": [
    "print(m)\n"
   ]
  },
  {
   "cell_type": "code",
   "execution_count": 12,
   "id": "38cab485-3674-4827-b60d-90cfefac4dc1",
   "metadata": {},
   "outputs": [],
   "source": [
    "num = 13"
   ]
  },
  {
   "cell_type": "code",
   "execution_count": 13,
   "id": "25ff1b16-968a-4447-a157-7f92b5ec9572",
   "metadata": {},
   "outputs": [],
   "source": [
    "name = \"Sam\""
   ]
  },
  {
   "cell_type": "code",
   "execution_count": 15,
   "id": "a816586d-92ba-4388-b29a-123dfa021b8b",
   "metadata": {},
   "outputs": [
    {
     "name": "stdout",
     "output_type": "stream",
     "text": [
      "My number is 13 and my name is Sam\n"
     ]
    }
   ],
   "source": [
    "print(\"My number is {} and my name is {}\".format(num, name))"
   ]
  },
  {
   "cell_type": "code",
   "execution_count": 16,
   "id": "08d4cd48-78ee-4ba7-88de-5f845ed40756",
   "metadata": {},
   "outputs": [],
   "source": [
    "s = \"abcdefghijk\"\n"
   ]
  },
  {
   "cell_type": "code",
   "execution_count": 17,
   "id": "f51e558f-c82e-49ae-a6b3-6fb34c5de8f8",
   "metadata": {},
   "outputs": [
    {
     "data": {
      "text/plain": [
       "'abc'"
      ]
     },
     "execution_count": 17,
     "metadata": {},
     "output_type": "execute_result"
    }
   ],
   "source": [
    "s[:3]"
   ]
  },
  {
   "cell_type": "code",
   "execution_count": 18,
   "id": "65617cd4-d0b0-436f-9e05-08da19ff1d60",
   "metadata": {},
   "outputs": [
    {
     "data": {
      "text/plain": [
       "'def'"
      ]
     },
     "execution_count": 18,
     "metadata": {},
     "output_type": "execute_result"
    }
   ],
   "source": [
    "s[3:6]"
   ]
  },
  {
   "cell_type": "code",
   "execution_count": 19,
   "id": "29672e8a-9805-4f8f-be71-471ef48b4502",
   "metadata": {},
   "outputs": [],
   "source": [
    "my_list = ['a','b','c']"
   ]
  },
  {
   "cell_type": "code",
   "execution_count": 20,
   "id": "1f688745-723f-4ff1-aac4-619ba103491b",
   "metadata": {},
   "outputs": [
    {
     "data": {
      "text/plain": [
       "['a', 'b', 'c']"
      ]
     },
     "execution_count": 20,
     "metadata": {},
     "output_type": "execute_result"
    }
   ],
   "source": [
    "my_list"
   ]
  },
  {
   "cell_type": "code",
   "execution_count": 21,
   "id": "7a859626-eb5c-41f4-a6db-e638a6e230d2",
   "metadata": {},
   "outputs": [],
   "source": [
    "my_list.append('d')"
   ]
  },
  {
   "cell_type": "code",
   "execution_count": 22,
   "id": "0a7f6d32-3588-475c-ab8d-1ca474564ed2",
   "metadata": {},
   "outputs": [
    {
     "data": {
      "text/plain": [
       "['a', 'b', 'c', 'd']"
      ]
     },
     "execution_count": 22,
     "metadata": {},
     "output_type": "execute_result"
    }
   ],
   "source": [
    "my_list"
   ]
  },
  {
   "cell_type": "code",
   "execution_count": 24,
   "id": "f44ed9ad-3337-450c-b515-1d8e1cf2228b",
   "metadata": {},
   "outputs": [],
   "source": [
    "nest = [1,2,3,[4,5,['Target']]]"
   ]
  },
  {
   "cell_type": "code",
   "execution_count": 25,
   "id": "0814d06b-f536-4554-a73a-ff2040087726",
   "metadata": {},
   "outputs": [
    {
     "name": "stdout",
     "output_type": "stream",
     "text": [
      "Target\n"
     ]
    }
   ],
   "source": [
    "print(nest[3][2][0])"
   ]
  },
  {
   "cell_type": "code",
   "execution_count": 26,
   "id": "660dd54f-696d-465a-84c1-908da8dfe36b",
   "metadata": {},
   "outputs": [],
   "source": [
    "#dictionaries"
   ]
  },
  {
   "cell_type": "code",
   "execution_count": 27,
   "id": "7387becc-fc57-4c8f-a8af-f141435a3bcd",
   "metadata": {},
   "outputs": [],
   "source": [
    "d= {'key1': 'value', 'key2':'value2'}"
   ]
  },
  {
   "cell_type": "code",
   "execution_count": 28,
   "id": "d4566cc6-6a83-4c5e-8039-fb17048748d0",
   "metadata": {},
   "outputs": [
    {
     "data": {
      "text/plain": [
       "'value'"
      ]
     },
     "execution_count": 28,
     "metadata": {},
     "output_type": "execute_result"
    }
   ],
   "source": [
    "d['key1']"
   ]
  },
  {
   "cell_type": "code",
   "execution_count": 30,
   "id": "15762f59-53c7-4fb8-b096-456f4c359fb7",
   "metadata": {},
   "outputs": [],
   "source": [
    "#tuples and list\n"
   ]
  },
  {
   "cell_type": "code",
   "execution_count": 31,
   "id": "d364f56d-9649-4d20-9862-7170fe6055d9",
   "metadata": {},
   "outputs": [],
   "source": [
    "my_list = [1,2,3]"
   ]
  },
  {
   "cell_type": "code",
   "execution_count": 32,
   "id": "a5a6e6f6-a25c-452c-a0ef-80eee53eb05e",
   "metadata": {},
   "outputs": [],
   "source": [
    "t = (1,2,3)"
   ]
  },
  {
   "cell_type": "code",
   "execution_count": 33,
   "id": "a76cf156-12ed-44fa-a416-25817625ee54",
   "metadata": {},
   "outputs": [
    {
     "data": {
      "text/plain": [
       "1"
      ]
     },
     "execution_count": 33,
     "metadata": {},
     "output_type": "execute_result"
    }
   ],
   "source": [
    "t[0]"
   ]
  },
  {
   "cell_type": "code",
   "execution_count": 34,
   "id": "fdd5c732-dc0b-4c65-8230-ec3bef7581a6",
   "metadata": {},
   "outputs": [
    {
     "data": {
      "text/plain": [
       "1"
      ]
     },
     "execution_count": 34,
     "metadata": {},
     "output_type": "execute_result"
    }
   ],
   "source": [
    "my_list[0]"
   ]
  },
  {
   "cell_type": "code",
   "execution_count": 35,
   "id": "5769372c-a879-4dab-9a5f-7f7261273a4e",
   "metadata": {},
   "outputs": [
    {
     "data": {
      "text/plain": [
       "False"
      ]
     },
     "execution_count": 35,
     "metadata": {},
     "output_type": "execute_result"
    }
   ],
   "source": [
    "1== 2"
   ]
  },
  {
   "cell_type": "code",
   "execution_count": 36,
   "id": "7527d03c-33db-4ba7-9c71-0f8adcc54cfe",
   "metadata": {},
   "outputs": [
    {
     "data": {
      "text/plain": [
       "True"
      ]
     },
     "execution_count": 36,
     "metadata": {},
     "output_type": "execute_result"
    }
   ],
   "source": [
    "1 != 3"
   ]
  },
  {
   "cell_type": "code",
   "execution_count": 37,
   "id": "ce9cdf74-9626-459c-bf77-84b11f507880",
   "metadata": {},
   "outputs": [
    {
     "data": {
      "text/plain": [
       "True"
      ]
     },
     "execution_count": 37,
     "metadata": {},
     "output_type": "execute_result"
    }
   ],
   "source": [
    "'hi' != 'bye'"
   ]
  },
  {
   "cell_type": "code",
   "execution_count": 38,
   "id": "950db358-d388-4f11-8266-cce8d2ad8cec",
   "metadata": {},
   "outputs": [
    {
     "data": {
      "text/plain": [
       "False"
      ]
     },
     "execution_count": 38,
     "metadata": {},
     "output_type": "execute_result"
    }
   ],
   "source": [
    "1<2 and 2>3"
   ]
  },
  {
   "cell_type": "code",
   "execution_count": 44,
   "id": "45fa5c0b-9278-4a8d-820c-348458882fcd",
   "metadata": {},
   "outputs": [
    {
     "name": "stdout",
     "output_type": "stream",
     "text": [
      "4\n"
     ]
    }
   ],
   "source": [
    "if 1<2:\n",
    "    x =2 + 2\n",
    "    print(x)"
   ]
  },
  {
   "cell_type": "code",
   "execution_count": 1,
   "id": "ba6f2a6d-bec5-4f57-aaf6-269edc7083dd",
   "metadata": {},
   "outputs": [],
   "source": [
    "seq = [1,2,3,4,5,6]"
   ]
  },
  {
   "cell_type": "code",
   "execution_count": 2,
   "id": "46fc05fd-f03a-41db-b64d-0493b7802ddf",
   "metadata": {},
   "outputs": [
    {
     "name": "stdout",
     "output_type": "stream",
     "text": [
      "1\n",
      "2\n",
      "3\n",
      "4\n",
      "5\n",
      "6\n"
     ]
    }
   ],
   "source": [
    "for num in seq:\n",
    "    print(num)"
   ]
  },
  {
   "cell_type": "code",
   "execution_count": null,
   "id": "58fd5e94-5908-427d-987f-1c88803648b9",
   "metadata": {},
   "outputs": [],
   "source": [
    "\n",
    "    "
   ]
  },
  {
   "cell_type": "code",
   "execution_count": 5,
   "id": "8ba79a78-5b3a-455f-8e80-a272e0f3ca6a",
   "metadata": {},
   "outputs": [
    {
     "name": "stdout",
     "output_type": "stream",
     "text": [
      "i is:{} 1\n",
      "i is:{} 2\n",
      "i is:{} 3\n",
      "i is:{} 4\n"
     ]
    }
   ],
   "source": [
    "i = 1\n",
    "\n",
    "while i < 5:\n",
    "    \n",
    "    print('i is:{}',format(i))\n",
    "    i = i+1"
   ]
  },
  {
   "cell_type": "code",
   "execution_count": 6,
   "id": "49071eef-98a1-4fe1-978e-3a188abce903",
   "metadata": {},
   "outputs": [
    {
     "name": "stdout",
     "output_type": "stream",
     "text": [
      "0\n",
      "1\n",
      "2\n",
      "3\n",
      "4\n"
     ]
    }
   ],
   "source": [
    "for x in range(0,5):\n",
    "    print(x)"
   ]
  },
  {
   "cell_type": "code",
   "execution_count": 7,
   "id": "c9682f25-6181-4776-b85d-9ecb039bebd2",
   "metadata": {},
   "outputs": [],
   "source": [
    "x = [1,2,3,4,5]"
   ]
  },
  {
   "cell_type": "code",
   "execution_count": 10,
   "id": "c1396ac7-5f9e-4cbd-89d7-87aaca976293",
   "metadata": {},
   "outputs": [],
   "source": [
    "out = []\n",
    "\n",
    "for num in x:\n",
    "    out.append(num**2)"
   ]
  },
  {
   "cell_type": "code",
   "execution_count": 11,
   "id": "9845f7c2-0346-4f33-bb38-5054afe2b700",
   "metadata": {},
   "outputs": [
    {
     "name": "stdout",
     "output_type": "stream",
     "text": [
      "[1, 4, 9, 16, 25]\n"
     ]
    }
   ],
   "source": [
    "print(out)"
   ]
  },
  {
   "cell_type": "code",
   "execution_count": 12,
   "id": "0fddf998-4c2b-44c7-b1b9-2a03e5af5e4e",
   "metadata": {},
   "outputs": [],
   "source": [
    "out = [num**2 for num in x]"
   ]
  },
  {
   "cell_type": "code",
   "execution_count": 13,
   "id": "fa7202c1-1cfd-4e97-9eda-924497dec0b0",
   "metadata": {},
   "outputs": [
    {
     "data": {
      "text/plain": [
       "[1, 4, 9, 16, 25]"
      ]
     },
     "execution_count": 13,
     "metadata": {},
     "output_type": "execute_result"
    }
   ],
   "source": [
    "out"
   ]
  },
  {
   "cell_type": "code",
   "execution_count": 14,
   "id": "85e0cfa6-5efa-4b15-84a6-d6015f70363b",
   "metadata": {},
   "outputs": [],
   "source": [
    "#functions\n"
   ]
  },
  {
   "cell_type": "code",
   "execution_count": 15,
   "id": "d5891ab5-73c0-43a0-b526-925a4b393205",
   "metadata": {},
   "outputs": [],
   "source": [
    "def my_func(param1):\n",
    "    print(param1)"
   ]
  },
  {
   "cell_type": "code",
   "execution_count": 16,
   "id": "8470ea8c-8038-432b-8bf1-3c28ca79b645",
   "metadata": {},
   "outputs": [
    {
     "name": "stdout",
     "output_type": "stream",
     "text": [
      "yes sir\n"
     ]
    }
   ],
   "source": [
    "my_func('yes sir')"
   ]
  },
  {
   "cell_type": "code",
   "execution_count": 20,
   "id": "f916b5b3-1263-472c-aa63-7cbe98991844",
   "metadata": {},
   "outputs": [],
   "source": [
    "def square(num):\n",
    "    return num**2"
   ]
  },
  {
   "cell_type": "code",
   "execution_count": 21,
   "id": "6064bba0-38c3-4eca-ae77-b892095b762f",
   "metadata": {},
   "outputs": [],
   "source": [
    "output = square(20)\n"
   ]
  },
  {
   "cell_type": "code",
   "execution_count": 22,
   "id": "de52ce3e-ac98-4ebe-ba7c-376d4620817b",
   "metadata": {},
   "outputs": [
    {
     "data": {
      "text/plain": [
       "400"
      ]
     },
     "execution_count": 22,
     "metadata": {},
     "output_type": "execute_result"
    }
   ],
   "source": [
    "output"
   ]
  },
  {
   "cell_type": "code",
   "execution_count": 23,
   "id": "36ac7c97-c7f4-4aa7-a556-06d4c66bc051",
   "metadata": {},
   "outputs": [],
   "source": [
    "#Maps\n"
   ]
  },
  {
   "cell_type": "code",
   "execution_count": 24,
   "id": "03d37235-5c50-41aa-bfbe-b3fe8794790a",
   "metadata": {},
   "outputs": [],
   "source": [
    "seq = [1,2,3,4,5,6,7,8,9]"
   ]
  },
  {
   "cell_type": "code",
   "execution_count": 26,
   "id": "7e20a74d-ff6e-41b0-b217-7dc5c8b16b25",
   "metadata": {},
   "outputs": [
    {
     "data": {
      "text/plain": [
       "[1, 4, 9, 16, 25, 36, 49, 64, 81]"
      ]
     },
     "execution_count": 26,
     "metadata": {},
     "output_type": "execute_result"
    }
   ],
   "source": [
    "list(map(square, seq))"
   ]
  },
  {
   "cell_type": "code",
   "execution_count": 28,
   "id": "b69a9b97-22c9-4d1e-88e7-2bd0e28cc054",
   "metadata": {},
   "outputs": [
    {
     "data": {
      "text/plain": [
       "[1, 4, 9, 16, 25, 36, 49, 64, 81]"
      ]
     },
     "execution_count": 28,
     "metadata": {},
     "output_type": "execute_result"
    }
   ],
   "source": [
    "list(map(lambda var:var**2, seq))"
   ]
  },
  {
   "cell_type": "code",
   "execution_count": 29,
   "id": "f7863c4a-6fea-4a37-b24d-added743a6d6",
   "metadata": {},
   "outputs": [
    {
     "data": {
      "text/plain": [
       "[2, 4, 6, 8]"
      ]
     },
     "execution_count": 29,
     "metadata": {},
     "output_type": "execute_result"
    }
   ],
   "source": [
    "list(filter(lambda num: num%2 ==0, seq))"
   ]
  },
  {
   "cell_type": "code",
   "execution_count": 30,
   "id": "6f2d8308-7491-4539-9d95-e24a56db7e28",
   "metadata": {},
   "outputs": [],
   "source": [
    "s = \"Hello my name is Issa\""
   ]
  },
  {
   "cell_type": "code",
   "execution_count": 31,
   "id": "171f343e-4702-4c9f-b327-27e53ddc6a26",
   "metadata": {},
   "outputs": [
    {
     "data": {
      "text/plain": [
       "'hello my name is issa'"
      ]
     },
     "execution_count": 31,
     "metadata": {},
     "output_type": "execute_result"
    }
   ],
   "source": [
    "s.lower()"
   ]
  },
  {
   "cell_type": "code",
   "execution_count": 32,
   "id": "838f707f-52a7-4f6b-af09-ab174191fd14",
   "metadata": {},
   "outputs": [
    {
     "data": {
      "text/plain": [
       "'HELLO MY NAME IS ISSA'"
      ]
     },
     "execution_count": 32,
     "metadata": {},
     "output_type": "execute_result"
    }
   ],
   "source": [
    "s.upper()"
   ]
  },
  {
   "cell_type": "code",
   "execution_count": 33,
   "id": "34aa6548-03ec-4610-8b37-bbfd3a11e5b0",
   "metadata": {},
   "outputs": [
    {
     "data": {
      "text/plain": [
       "['Hello', 'my', 'name', 'is', 'Issa']"
      ]
     },
     "execution_count": 33,
     "metadata": {},
     "output_type": "execute_result"
    }
   ],
   "source": [
    "s.split()"
   ]
  },
  {
   "cell_type": "code",
   "execution_count": 34,
   "id": "6a46052c-9936-4758-bf12-9016fd5bf497",
   "metadata": {},
   "outputs": [],
   "source": [
    "x = [(1,2),(3,4),(5,6)]"
   ]
  },
  {
   "cell_type": "code",
   "execution_count": 35,
   "id": "761a5cb7-0a49-4b5e-9b4b-220f6db3a988",
   "metadata": {},
   "outputs": [
    {
     "name": "stdout",
     "output_type": "stream",
     "text": [
      "2\n",
      "4\n",
      "6\n"
     ]
    }
   ],
   "source": [
    "for a,b in x:\n",
    "    print(b)"
   ]
  },
  {
   "cell_type": "code",
   "execution_count": null,
   "id": "590d2c95-d57a-43e7-abe9-30939fc0f336",
   "metadata": {},
   "outputs": [],
   "source": []
  }
 ],
 "metadata": {
  "kernelspec": {
   "display_name": "Python 3 (ipykernel)",
   "language": "python",
   "name": "python3"
  },
  "language_info": {
   "codemirror_mode": {
    "name": "ipython",
    "version": 3
   },
   "file_extension": ".py",
   "mimetype": "text/x-python",
   "name": "python",
   "nbconvert_exporter": "python",
   "pygments_lexer": "ipython3",
   "version": "3.12.7"
  }
 },
 "nbformat": 4,
 "nbformat_minor": 5
}

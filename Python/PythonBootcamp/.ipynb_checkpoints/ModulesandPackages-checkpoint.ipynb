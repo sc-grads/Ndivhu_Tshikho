{
 "cells": [
  {
   "cell_type": "markdown",
   "id": "87678752-1199-4772-9fbf-8cc1a42c0f75",
   "metadata": {},
   "source": [
    "PyPi is a repository for open-source  thirfparty Python packges."
   ]
  },
  {
   "cell_type": "code",
   "execution_count": null,
   "id": "229df1db-36b9-4a36-8321-7f08ff2a78de",
   "metadata": {},
   "outputs": [],
   "source": []
  }
 ],
 "metadata": {
  "kernelspec": {
   "display_name": "Python 3 (ipykernel)",
   "language": "python",
   "name": "python3"
  },
  "language_info": {
   "codemirror_mode": {
    "name": "ipython",
    "version": 3
   },
   "file_extension": ".py",
   "mimetype": "text/x-python",
   "name": "python",
   "nbconvert_exporter": "python",
   "pygments_lexer": "ipython3",
   "version": "3.11.7"
  }
 },
 "nbformat": 4,
 "nbformat_minor": 5
}

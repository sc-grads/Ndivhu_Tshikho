{
 "cells": [
  {
   "cell_type": "code",
   "execution_count": null,
   "id": "82fcb762-7c12-4d6d-b289-0df754a932a6",
   "metadata": {},
   "outputs": [],
   "source": [
    "# Decorator \n",
    "#is a function that takes another function (or method) and extends its behavior without explicitly modifying it.\n",
    "'''\n",
    "Imagine you have a plain cupcake. A decorator in baking would be like adding frosting and sprinkles to the cupcake. \n",
    "The cupcake remains the same in essence, but it now has additional features that make it more appealing.\n",
    "'''"
   ]
  },
  {
   "cell_type": "code",
   "execution_count": null,
   "id": "cc83ef84-d4af-4bf0-a86e-8b76d8face4d",
   "metadata": {},
   "outputs": [],
   "source": []
  },
  {
   "cell_type": "code",
   "execution_count": 38,
   "id": "3673f43c-8f1f-42dc-ad0c-a747ad44ad6f",
   "metadata": {},
   "outputs": [],
   "source": [
    "# Decorator function\n",
    "def my_decorator(func):\n",
    "    def wrapper():\n",
    "        print(\"Something is happening before the function is called.\")\n",
    "       \n",
    "        print(\"Something is happening after the function is called.\")\n",
    "        func()\n",
    "    return wrapper\n",
    "\n",
    "# Function to be decorated\n",
    "@my_decorator\n",
    "def say_hello():\n",
    "    print(\"Hello!\")\n"
   ]
  },
  {
   "cell_type": "code",
   "execution_count": 39,
   "id": "56ffac71-7f2e-47c1-bc4c-b7c241210531",
   "metadata": {},
   "outputs": [
    {
     "name": "stdout",
     "output_type": "stream",
     "text": [
      "Something is happening before the function is called.\n",
      "Something is happening after the function is called.\n",
      "Hello!\n"
     ]
    }
   ],
   "source": [
    "# Call the decorated function\n",
    "say_hello()\n"
   ]
  },
  {
   "cell_type": "code",
   "execution_count": 50,
   "id": "50423aea-4854-4d22-bede-d7bd83e93d87",
   "metadata": {},
   "outputs": [
    {
     "name": "stdout",
     "output_type": "stream",
     "text": [
      "1\n",
      "2\n",
      "3\n"
     ]
    }
   ],
   "source": [
    "#Generators in Python are a way of creating iterators. \n",
    "'''\n",
    "They allow you to iterate over data without storing the entire dataset in memory at once. \n",
    "Instead, generators produce items one at a time and only when required.\n",
    "\n",
    "Consider a water faucet. Instead of filling a large bucket with water and then using it, \n",
    "you can get water on demand by turning the faucet on and off as needed. \n",
    "This way, you use only what you need at the moment, without wasting or storing excess water.\n",
    "'''\n",
    "def my_generator():\n",
    "    yield 1\n",
    "    yield 2\n",
    "    yield 3\n",
    "\n",
    "# Using the generator\n",
    "gen = my_generator()\n",
    "\n",
    "# Iterating through the generator\n",
    "for value in gen:\n",
    "    print(value)\n"
   ]
  },
  {
   "cell_type": "code",
   "execution_count": 51,
   "id": "e122748e-3659-42bc-8ed3-c64ae74731e0",
   "metadata": {},
   "outputs": [
    {
     "ename": "StopIteration",
     "evalue": "",
     "output_type": "error",
     "traceback": [
      "\u001b[1;31m---------------------------------------------------------------------------\u001b[0m",
      "\u001b[1;31mStopIteration\u001b[0m                             Traceback (most recent call last)",
      "Cell \u001b[1;32mIn[51], line 1\u001b[0m\n\u001b[1;32m----> 1\u001b[0m \u001b[38;5;28mprint\u001b[39m(\u001b[38;5;28mnext\u001b[39m(gen))\n",
      "\u001b[1;31mStopIteration\u001b[0m: "
     ]
    }
   ],
   "source": [
    "print(next(gen))"
   ]
  },
  {
   "cell_type": "markdown",
   "id": "fba2dabd-4d9a-4dfe-9b53-45e468c52ecb",
   "metadata": {},
   "source": [
    "How They Function\n",
    "\n",
    "Decorators:\n",
    "\n",
    "Definition: A decorator is a function that takes another function as an argument and returns a new function that usually extends the behavior of the original function.\n",
    "\n",
    "Application: Decorators are applied to functions using the @decorator_name syntax.\n",
    "\n",
    "Execution: When the decorated function is called, it executes the additional code in the decorator.\n",
    "\n",
    "Generators:\n",
    "\n",
    "Definition: A generator is a function that returns an iterator. It is defined like a regular function but uses yield to return values one at a time.\n",
    "\n",
    "Usage: Generators are used in loops or can be manually iterated using next().\n",
    "\n",
    "State: Each yield saves the state of the function, allowing it to resume from where it left off on subsequent calls."
   ]
  }
 ],
 "metadata": {
  "kernelspec": {
   "display_name": "Python 3 (ipykernel)",
   "language": "python",
   "name": "python3"
  },
  "language_info": {
   "codemirror_mode": {
    "name": "ipython",
    "version": 3
   },
   "file_extension": ".py",
   "mimetype": "text/x-python",
   "name": "python",
   "nbconvert_exporter": "python",
   "pygments_lexer": "ipython3",
   "version": "3.11.7"
  }
 },
 "nbformat": 4,
 "nbformat_minor": 5
}

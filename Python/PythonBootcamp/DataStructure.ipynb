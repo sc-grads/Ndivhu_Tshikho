{
 "cells": [
  {
   "cell_type": "markdown",
   "id": "ac1a85e6-7e9d-4185-91bb-bada8eaf8f86",
   "metadata": {},
   "source": [
    "Variable Assignment "
   ]
  },
  {
   "cell_type": "code",
   "execution_count": 1,
   "id": "c7bdc0d6-3441-4ad4-ab64-80636c18f659",
   "metadata": {},
   "outputs": [],
   "source": [
    "a = 5"
   ]
  },
  {
   "cell_type": "code",
   "execution_count": 2,
   "id": "869618f8-eaf0-406c-bfa8-3920b1f7cf5e",
   "metadata": {},
   "outputs": [],
   "source": [
    "a = 7"
   ]
  },
  {
   "cell_type": "code",
   "execution_count": 3,
   "id": "9dbb7524-5484-4ff4-be3b-caf517adddb6",
   "metadata": {},
   "outputs": [
    {
     "data": {
      "text/plain": [
       "14"
      ]
     },
     "execution_count": 3,
     "metadata": {},
     "output_type": "execute_result"
    }
   ],
   "source": [
    "a + a"
   ]
  },
  {
   "cell_type": "code",
   "execution_count": 4,
   "id": "cdc218f9-cac0-4739-8d41-f8d6a2b940e3",
   "metadata": {},
   "outputs": [
    {
     "data": {
      "text/plain": [
       "int"
      ]
     },
     "execution_count": 4,
     "metadata": {},
     "output_type": "execute_result"
    }
   ],
   "source": [
    "type(a)"
   ]
  },
  {
   "cell_type": "code",
   "execution_count": 6,
   "id": "9581731e-1830-4ad5-b49c-e64e11af1171",
   "metadata": {},
   "outputs": [],
   "source": [
    "my_income = 100\n",
    "\n",
    "tax_rate = 0.1\n",
    "\n",
    "my_taxes = my_income * tax_rate "
   ]
  },
  {
   "cell_type": "code",
   "execution_count": 7,
   "id": "28648994-64f2-408b-b79f-fda710d93985",
   "metadata": {},
   "outputs": [
    {
     "data": {
      "text/plain": [
       "10.0"
      ]
     },
     "execution_count": 7,
     "metadata": {},
     "output_type": "execute_result"
    }
   ],
   "source": [
    "my_taxes"
   ]
  },
  {
   "cell_type": "markdown",
   "id": "a7d199db-25d7-4f2b-ac54-730828a0185e",
   "metadata": {},
   "source": [
    "String"
   ]
  },
  {
   "cell_type": "code",
   "execution_count": 8,
   "id": "b7cb16e6-ff1c-4b57-a2c6-a9b11de8f6c9",
   "metadata": {},
   "outputs": [],
   "source": [
    "mystring = \"Hello World\""
   ]
  },
  {
   "cell_type": "code",
   "execution_count": 9,
   "id": "92711899-5fd8-478a-b0d5-1c80341b6d9b",
   "metadata": {},
   "outputs": [
    {
     "data": {
      "text/plain": [
       "'Hello World'"
      ]
     },
     "execution_count": 9,
     "metadata": {},
     "output_type": "execute_result"
    }
   ],
   "source": [
    "mystring"
   ]
  },
  {
   "cell_type": "code",
   "execution_count": 10,
   "id": "0b37aa23-f380-4dce-bb70-36b872d21fd6",
   "metadata": {},
   "outputs": [
    {
     "data": {
      "text/plain": [
       "'r'"
      ]
     },
     "execution_count": 10,
     "metadata": {},
     "output_type": "execute_result"
    }
   ],
   "source": [
    "mystring[8]"
   ]
  },
  {
   "cell_type": "markdown",
   "id": "59433065-2282-461c-8edb-2416edf4ac88",
   "metadata": {},
   "source": [
    "slicing "
   ]
  },
  {
   "cell_type": "code",
   "execution_count": 11,
   "id": "1b173547-f150-43db-8d12-24237eb224cd",
   "metadata": {},
   "outputs": [],
   "source": [
    "mystrings = 'abcdifghijk'"
   ]
  },
  {
   "cell_type": "code",
   "execution_count": 12,
   "id": "ebceda5c-2fc1-4487-b8e0-88f86a134cd8",
   "metadata": {},
   "outputs": [
    {
     "data": {
      "text/plain": [
       "'cdifghijk'"
      ]
     },
     "execution_count": 12,
     "metadata": {},
     "output_type": "execute_result"
    }
   ],
   "source": [
    "mystrings[2:]"
   ]
  },
  {
   "cell_type": "code",
   "execution_count": 13,
   "id": "5ab73a0e-fd2e-4f8c-bdeb-e18bb922ca4c",
   "metadata": {},
   "outputs": [
    {
     "data": {
      "text/plain": [
       "'abc'"
      ]
     },
     "execution_count": 13,
     "metadata": {},
     "output_type": "execute_result"
    }
   ],
   "source": [
    "mystrings[:3]"
   ]
  },
  {
   "cell_type": "code",
   "execution_count": 14,
   "id": "69326c6b-7a7a-4f40-a1db-2a41553e8ce3",
   "metadata": {},
   "outputs": [
    {
     "data": {
      "text/plain": [
       "'dif'"
      ]
     },
     "execution_count": 14,
     "metadata": {},
     "output_type": "execute_result"
    }
   ],
   "source": [
    "mystrings[3:6]"
   ]
  },
  {
   "cell_type": "code",
   "execution_count": 15,
   "id": "3b5af691-c64e-4dfe-b5c9-8ffa70ee0858",
   "metadata": {},
   "outputs": [
    {
     "data": {
      "text/plain": [
       "'adgj'"
      ]
     },
     "execution_count": 15,
     "metadata": {},
     "output_type": "execute_result"
    }
   ],
   "source": [
    "mystrings[::3]\n"
   ]
  },
  {
   "cell_type": "code",
   "execution_count": 16,
   "id": "1517a5af-599a-45c3-adb9-7b0a142131c2",
   "metadata": {},
   "outputs": [
    {
     "data": {
      "text/plain": [
       "'dlroW olleH'"
      ]
     },
     "execution_count": 16,
     "metadata": {},
     "output_type": "execute_result"
    }
   ],
   "source": [
    "mystring[::-1]"
   ]
  },
  {
   "cell_type": "code",
   "execution_count": 18,
   "id": "47b170a3-d0b8-4548-88c9-8f0d85984bdd",
   "metadata": {},
   "outputs": [
    {
     "data": {
      "text/plain": [
       "'r'"
      ]
     },
     "execution_count": 18,
     "metadata": {},
     "output_type": "execute_result"
    }
   ],
   "source": [
    "mystring[8]"
   ]
  },
  {
   "cell_type": "markdown",
   "id": "dca0502a-bf8c-4cde-a985-e5322f2577a9",
   "metadata": {},
   "source": [
    "Immutability"
   ]
  },
  {
   "cell_type": "code",
   "execution_count": 19,
   "id": "4acd6554-6da1-4ccb-9cc6-dfa9ba6ac85b",
   "metadata": {},
   "outputs": [],
   "source": [
    "name = \"Sam\""
   ]
  },
  {
   "cell_type": "code",
   "execution_count": 20,
   "id": "04dd1bbd-f5d9-4665-9052-6e913e4640fc",
   "metadata": {},
   "outputs": [],
   "source": [
    "last_letters = name[1:]"
   ]
  },
  {
   "cell_type": "code",
   "execution_count": 21,
   "id": "b7ebbee0-d8dd-43a1-8ca0-d430f17bc6c3",
   "metadata": {},
   "outputs": [
    {
     "data": {
      "text/plain": [
       "'Pam'"
      ]
     },
     "execution_count": 21,
     "metadata": {},
     "output_type": "execute_result"
    }
   ],
   "source": [
    "'P'+last_letters"
   ]
  },
  {
   "cell_type": "code",
   "execution_count": 22,
   "id": "30ad98d4-48b9-4546-a948-7c71f0643f50",
   "metadata": {},
   "outputs": [],
   "source": [
    "x = 'Hello Issa'"
   ]
  },
  {
   "cell_type": "code",
   "execution_count": 23,
   "id": "4dec7137-b988-42f1-8d79-aae2a21f9fd2",
   "metadata": {},
   "outputs": [
    {
     "data": {
      "text/plain": [
       "'HELLO ISSA'"
      ]
     },
     "execution_count": 23,
     "metadata": {},
     "output_type": "execute_result"
    }
   ],
   "source": [
    "x.upper()"
   ]
  },
  {
   "cell_type": "code",
   "execution_count": 24,
   "id": "09538e1f-a0e5-4246-86c9-b3f450c73b13",
   "metadata": {},
   "outputs": [
    {
     "data": {
      "text/plain": [
       "['Hello', 'Issa']"
      ]
     },
     "execution_count": 24,
     "metadata": {},
     "output_type": "execute_result"
    }
   ],
   "source": [
    "x.split()\n"
   ]
  },
  {
   "cell_type": "markdown",
   "id": "0c7451bb-c901-489f-b4f7-c8238adc398c",
   "metadata": {},
   "source": [
    "String Formatting"
   ]
  },
  {
   "cell_type": "code",
   "execution_count": 26,
   "id": "f14ad2ff-8d70-4b24-af4b-10c032c4911e",
   "metadata": {},
   "outputs": [
    {
     "name": "stdout",
     "output_type": "stream",
     "text": [
      "This is a string Inserted\n"
     ]
    }
   ],
   "source": [
    "print('This is a string {}'.format('Inserted'))\n"
   ]
  },
  {
   "cell_type": "code",
   "execution_count": 28,
   "id": "abbd7b33-e31d-4d16-bac6-770318daaaa0",
   "metadata": {},
   "outputs": [
    {
     "name": "stdout",
     "output_type": "stream",
     "text": [
      "The quick brown fox\n"
     ]
    }
   ],
   "source": [
    "print('The {2} {1} {0}'.format('fox','brown','quick'))"
   ]
  },
  {
   "cell_type": "markdown",
   "id": "3d80aaa1-3a34-4713-9149-4af9d34baf11",
   "metadata": {},
   "source": [
    "Float formatting follows \"{value.width.precision f}\""
   ]
  },
  {
   "cell_type": "code",
   "execution_count": 30,
   "id": "2577bb70-6234-46f0-876a-b8ecf8ce02d7",
   "metadata": {},
   "outputs": [],
   "source": [
    "result = 100/777"
   ]
  },
  {
   "cell_type": "code",
   "execution_count": 31,
   "id": "3f9f3363-330c-4bb9-bb4e-240132976b52",
   "metadata": {},
   "outputs": [
    {
     "data": {
      "text/plain": [
       "0.1287001287001287"
      ]
     },
     "execution_count": 31,
     "metadata": {},
     "output_type": "execute_result"
    }
   ],
   "source": [
    "result"
   ]
  },
  {
   "cell_type": "code",
   "execution_count": 33,
   "id": "a2c73822-d2b7-4e98-9940-f1fcf7950cc0",
   "metadata": {},
   "outputs": [
    {
     "name": "stdout",
     "output_type": "stream",
     "text": [
      "The results was 0.129\n"
     ]
    }
   ],
   "source": [
    "print(\"The results was {r:1.3f}\".format(r=result))"
   ]
  },
  {
   "cell_type": "markdown",
   "id": "a60310aa-d007-4eca-ac52-1d39d7f92f61",
   "metadata": {},
   "source": [
    "List"
   ]
  },
  {
   "cell_type": "code",
   "execution_count": 2,
   "id": "e3f1154f-bfc0-4dae-97cd-45d59be582a8",
   "metadata": {},
   "outputs": [
    {
     "data": {
      "text/plain": [
       "3"
      ]
     },
     "execution_count": 2,
     "metadata": {},
     "output_type": "execute_result"
    }
   ],
   "source": [
    "mylist = [1,2,3]\n",
    "len(mylist)"
   ]
  },
  {
   "cell_type": "code",
   "execution_count": 4,
   "id": "8e98ee37-39a9-4b20-9224-cc7b21710dd9",
   "metadata": {},
   "outputs": [
    {
     "data": {
      "text/plain": [
       "['two', 'three']"
      ]
     },
     "execution_count": 4,
     "metadata": {},
     "output_type": "execute_result"
    }
   ],
   "source": [
    "my_list =['one', 'two', 'three']\n",
    "my_list[1:]"
   ]
  },
  {
   "cell_type": "code",
   "execution_count": 5,
   "id": "74aae75d-f429-4506-8381-598d92a86a7f",
   "metadata": {},
   "outputs": [],
   "source": [
    "another_list = ['four','five']"
   ]
  },
  {
   "cell_type": "code",
   "execution_count": 6,
   "id": "fe325392-7bdc-476d-b9f4-d460bd48c00a",
   "metadata": {},
   "outputs": [],
   "source": [
    "new_list =my_list+another_list"
   ]
  },
  {
   "cell_type": "code",
   "execution_count": 8,
   "id": "96d3850d-df86-478c-893a-2b881f71b444",
   "metadata": {},
   "outputs": [
    {
     "data": {
      "text/plain": [
       "['ONE ALL CAPS', 'two', 'three', 'four', 'five']"
      ]
     },
     "execution_count": 8,
     "metadata": {},
     "output_type": "execute_result"
    }
   ],
   "source": [
    "new_list[0] = 'ONE ALL CAPS'\n",
    "new_list"
   ]
  },
  {
   "cell_type": "code",
   "execution_count": 7,
   "id": "2d52de60-9674-4dbf-93a1-5b8578c86b4b",
   "metadata": {},
   "outputs": [
    {
     "data": {
      "text/plain": [
       "['one', 'two', 'three', 'four', 'five', 'six']"
      ]
     },
     "execution_count": 7,
     "metadata": {},
     "output_type": "execute_result"
    }
   ],
   "source": [
    "new_list.append('six')\n",
    "new_list"
   ]
  },
  {
   "cell_type": "code",
   "execution_count": 8,
   "id": "4aa7dceb-5c72-4c7d-83a0-d4f513a0a502",
   "metadata": {},
   "outputs": [
    {
     "data": {
      "text/plain": [
       "'six'"
      ]
     },
     "execution_count": 8,
     "metadata": {},
     "output_type": "execute_result"
    }
   ],
   "source": [
    "new_list.pop()"
   ]
  },
  {
   "cell_type": "code",
   "execution_count": 9,
   "id": "ee412366-c930-43b9-8132-89f8e7019eaa",
   "metadata": {},
   "outputs": [],
   "source": [
    "popped_item = new_list.pop()"
   ]
  },
  {
   "cell_type": "code",
   "execution_count": 11,
   "id": "a4b4bb7f-a2e2-4a71-9175-5d577042298c",
   "metadata": {},
   "outputs": [
    {
     "data": {
      "text/plain": [
       "'five'"
      ]
     },
     "execution_count": 11,
     "metadata": {},
     "output_type": "execute_result"
    }
   ],
   "source": [
    "popped_item"
   ]
  },
  {
   "cell_type": "markdown",
   "id": "70e88744-a3c6-4ae1-8e71-5ab11034b6c1",
   "metadata": {},
   "source": [
    "Dictionaries"
   ]
  },
  {
   "cell_type": "code",
   "execution_count": 12,
   "id": "50b3b689-9101-46e3-9ce6-49c15fe9c626",
   "metadata": {},
   "outputs": [],
   "source": [
    "my_dict = {'key1':'value1','key2':'value2'}"
   ]
  },
  {
   "cell_type": "code",
   "execution_count": 13,
   "id": "47564fa1-2ed9-44aa-85da-fb62faa9f4b0",
   "metadata": {},
   "outputs": [
    {
     "data": {
      "text/plain": [
       "'value1'"
      ]
     },
     "execution_count": 13,
     "metadata": {},
     "output_type": "execute_result"
    }
   ],
   "source": [
    "my_dict['key1']"
   ]
  },
  {
   "cell_type": "code",
   "execution_count": 14,
   "id": "cc612ed5-95ef-4c34-a787-e59e600f546d",
   "metadata": {},
   "outputs": [],
   "source": [
    "price_lookup = {'apple':2.99, 'oranges':1.99, 'milk': 5.08}"
   ]
  },
  {
   "cell_type": "code",
   "execution_count": 17,
   "id": "1261b18b-4309-425b-a509-03f9aee0d800",
   "metadata": {},
   "outputs": [
    {
     "data": {
      "text/plain": [
       "2.99"
      ]
     },
     "execution_count": 17,
     "metadata": {},
     "output_type": "execute_result"
    }
   ],
   "source": [
    "price_lookup['apple']"
   ]
  },
  {
   "cell_type": "code",
   "execution_count": 20,
   "id": "50f96c16-bfa1-40f2-a937-0dd2d4266383",
   "metadata": {},
   "outputs": [],
   "source": [
    "d = {'k1': 100, 'k2':200}"
   ]
  },
  {
   "cell_type": "code",
   "execution_count": 21,
   "id": "e7e53b45-2d6e-42a8-b66c-6e355475588f",
   "metadata": {},
   "outputs": [],
   "source": [
    "d['k3']= 300"
   ]
  },
  {
   "cell_type": "code",
   "execution_count": 22,
   "id": "e5a05709-27ae-4f04-8152-a8b744d9005c",
   "metadata": {},
   "outputs": [
    {
     "data": {
      "text/plain": [
       "{'k1': 100, 'k2': 200, 'k3': 300}"
      ]
     },
     "execution_count": 22,
     "metadata": {},
     "output_type": "execute_result"
    }
   ],
   "source": [
    "d"
   ]
  },
  {
   "cell_type": "code",
   "execution_count": 23,
   "id": "d8b18998-37d3-4edc-ac6e-5a2cff54e794",
   "metadata": {},
   "outputs": [
    {
     "data": {
      "text/plain": [
       "dict_keys(['k1', 'k2', 'k3'])"
      ]
     },
     "execution_count": 23,
     "metadata": {},
     "output_type": "execute_result"
    }
   ],
   "source": [
    "d.keys()"
   ]
  },
  {
   "cell_type": "code",
   "execution_count": 24,
   "id": "04fd017e-cdc4-4e0e-88db-714d74761874",
   "metadata": {},
   "outputs": [
    {
     "data": {
      "text/plain": [
       "dict_values([100, 200, 300])"
      ]
     },
     "execution_count": 24,
     "metadata": {},
     "output_type": "execute_result"
    }
   ],
   "source": [
    "d.values()"
   ]
  },
  {
   "cell_type": "code",
   "execution_count": 27,
   "id": "0524bf1a-1b37-4694-accd-3ec104f298bd",
   "metadata": {},
   "outputs": [
    {
     "data": {
      "text/plain": [
       "dict_items([('k1', 100), ('k2', 200), ('k3', 300)])"
      ]
     },
     "execution_count": 27,
     "metadata": {},
     "output_type": "execute_result"
    }
   ],
   "source": [
    "d.items()"
   ]
  },
  {
   "cell_type": "markdown",
   "id": "8e6b9a59-dafb-4562-bcd4-1460b54e5e33",
   "metadata": {},
   "source": [
    "Tuples"
   ]
  },
  {
   "cell_type": "code",
   "execution_count": 28,
   "id": "c07056bf-0bd6-41fd-8932-10a726ac8567",
   "metadata": {},
   "outputs": [],
   "source": [
    "t = (1,2,3)"
   ]
  },
  {
   "cell_type": "code",
   "execution_count": 34,
   "id": "e7de88ba-7815-43eb-b7f0-392c13b3aae1",
   "metadata": {},
   "outputs": [
    {
     "data": {
      "text/plain": [
       "3"
      ]
     },
     "execution_count": 34,
     "metadata": {},
     "output_type": "execute_result"
    }
   ],
   "source": [
    "t\n",
    "len(t)"
   ]
  },
  {
   "cell_type": "code",
   "execution_count": 35,
   "id": "961128df-46dd-4e85-aeab-1436af29b548",
   "metadata": {},
   "outputs": [],
   "source": [
    "t = ('a','b','b')"
   ]
  },
  {
   "cell_type": "code",
   "execution_count": 36,
   "id": "9cf74025-4b3d-4b75-aa84-0c6f69a1482c",
   "metadata": {},
   "outputs": [
    {
     "data": {
      "text/plain": [
       "2"
      ]
     },
     "execution_count": 36,
     "metadata": {},
     "output_type": "execute_result"
    }
   ],
   "source": [
    "t.count('b')"
   ]
  },
  {
   "cell_type": "code",
   "execution_count": 40,
   "id": "958c3f94-11a1-4e73-9434-d69feb5b146e",
   "metadata": {},
   "outputs": [
    {
     "data": {
      "text/plain": [
       "1"
      ]
     },
     "execution_count": 40,
     "metadata": {},
     "output_type": "execute_result"
    }
   ],
   "source": [
    "t.index('b')"
   ]
  },
  {
   "cell_type": "markdown",
   "id": "a52a9b75-47a2-42b0-912f-410fda0524a7",
   "metadata": {},
   "source": [
    "Sets"
   ]
  },
  {
   "cell_type": "code",
   "execution_count": 41,
   "id": "978b6918-b2e6-4f17-a001-386a5444ec20",
   "metadata": {},
   "outputs": [],
   "source": [
    "myset = set()"
   ]
  },
  {
   "cell_type": "code",
   "execution_count": 42,
   "id": "dbccce1b-964e-4c15-9316-8460674150cd",
   "metadata": {},
   "outputs": [
    {
     "data": {
      "text/plain": [
       "set()"
      ]
     },
     "execution_count": 42,
     "metadata": {},
     "output_type": "execute_result"
    }
   ],
   "source": [
    "myset"
   ]
  },
  {
   "cell_type": "code",
   "execution_count": 44,
   "id": "77306bdc-93a7-42c3-9751-e2c28dda26b1",
   "metadata": {},
   "outputs": [],
   "source": [
    "myset.add(1)"
   ]
  },
  {
   "cell_type": "code",
   "execution_count": 45,
   "id": "5f26fb6f-d177-4501-a271-b811cdac96ae",
   "metadata": {},
   "outputs": [],
   "source": [
    "myset.add(2)"
   ]
  },
  {
   "cell_type": "code",
   "execution_count": 46,
   "id": "556cd9a3-594f-4502-a258-47915a99c968",
   "metadata": {},
   "outputs": [
    {
     "data": {
      "text/plain": [
       "{1, 2}"
      ]
     },
     "execution_count": 46,
     "metadata": {},
     "output_type": "execute_result"
    }
   ],
   "source": [
    "myset"
   ]
  },
  {
   "cell_type": "code",
   "execution_count": 47,
   "id": "e92880aa-e91e-4e47-9e83-2b7a537807ef",
   "metadata": {},
   "outputs": [],
   "source": [
    "mylist =[1,1,1,1,2,2,2,2,]"
   ]
  },
  {
   "cell_type": "code",
   "execution_count": 48,
   "id": "5aada46c-d847-44a6-9ee5-361d8951cb89",
   "metadata": {},
   "outputs": [
    {
     "data": {
      "text/plain": [
       "{1, 2}"
      ]
     },
     "execution_count": 48,
     "metadata": {},
     "output_type": "execute_result"
    }
   ],
   "source": [
    "set(mylist)"
   ]
  },
  {
   "cell_type": "code",
   "execution_count": 49,
   "id": "cab5bf5f-468e-4258-9d5d-3943ad9e6c7f",
   "metadata": {},
   "outputs": [
    {
     "data": {
      "text/plain": [
       "{'M', 'i', 'p', 's'}"
      ]
     },
     "execution_count": 49,
     "metadata": {},
     "output_type": "execute_result"
    }
   ],
   "source": [
    "mylist = 'Mississippi'\n",
    "set(mylist)"
   ]
  },
  {
   "cell_type": "markdown",
   "id": "f12afe14-79c3-4d9c-8440-5e5895a1db20",
   "metadata": {},
   "source": [
    "Booleans"
   ]
  },
  {
   "cell_type": "code",
   "execution_count": 50,
   "id": "75f49d03-759f-4e82-8747-f111a4558cda",
   "metadata": {},
   "outputs": [
    {
     "data": {
      "text/plain": [
       "True"
      ]
     },
     "execution_count": 50,
     "metadata": {},
     "output_type": "execute_result"
    }
   ],
   "source": [
    "True"
   ]
  },
  {
   "cell_type": "code",
   "execution_count": 51,
   "id": "1c1ab6c6-c7e4-49f9-96a6-26dd27d15de5",
   "metadata": {},
   "outputs": [
    {
     "data": {
      "text/plain": [
       "False"
      ]
     },
     "execution_count": 51,
     "metadata": {},
     "output_type": "execute_result"
    }
   ],
   "source": [
    "False"
   ]
  },
  {
   "cell_type": "code",
   "execution_count": 52,
   "id": "d5e09826-a5fb-4db6-958e-3b343918adc8",
   "metadata": {},
   "outputs": [
    {
     "data": {
      "text/plain": [
       "bool"
      ]
     },
     "execution_count": 52,
     "metadata": {},
     "output_type": "execute_result"
    }
   ],
   "source": [
    "type(False)"
   ]
  },
  {
   "cell_type": "code",
   "execution_count": 53,
   "id": "f363fa35-e3db-4289-b7f8-f3d05bc98516",
   "metadata": {},
   "outputs": [
    {
     "data": {
      "text/plain": [
       "False"
      ]
     },
     "execution_count": 53,
     "metadata": {},
     "output_type": "execute_result"
    }
   ],
   "source": [
    "1>2"
   ]
  },
  {
   "cell_type": "code",
   "execution_count": 54,
   "id": "12c0feff-ae14-4f62-8122-06d101556b32",
   "metadata": {},
   "outputs": [
    {
     "data": {
      "text/plain": [
       "True"
      ]
     },
     "execution_count": 54,
     "metadata": {},
     "output_type": "execute_result"
    }
   ],
   "source": [
    "1==1"
   ]
  }
 ],
 "metadata": {
  "kernelspec": {
   "display_name": "Python 3 (ipykernel)",
   "language": "python",
   "name": "python3"
  },
  "language_info": {
   "codemirror_mode": {
    "name": "ipython",
    "version": 3
   },
   "file_extension": ".py",
   "mimetype": "text/x-python",
   "name": "python",
   "nbconvert_exporter": "python",
   "pygments_lexer": "ipython3",
   "version": "3.11.7"
  }
 },
 "nbformat": 4,
 "nbformat_minor": 5
}

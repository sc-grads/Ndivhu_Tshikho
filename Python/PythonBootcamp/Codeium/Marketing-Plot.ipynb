{
 "cells": [
  {
   "cell_type": "code",
   "execution_count": 2,
   "id": "25487309-355f-4e08-8e54-d774ae7bd33e",
   "metadata": {},
   "outputs": [],
   "source": [
    "def add(a,b):\n",
    "    print (a+b)"
   ]
  },
  {
   "cell_type": "code",
   "execution_count": 4,
   "id": "6b8648cc-5142-4cb5-b9d7-6e94bd92a63b",
   "metadata": {},
   "outputs": [
    {
     "name": "stdout",
     "output_type": "stream",
     "text": [
      "11\n"
     ]
    }
   ],
   "source": [
    "add  =add(2,9)"
   ]
  },
  {
   "cell_type": "code",
   "execution_count": null,
   "id": "a10a112d-6b17-477e-9936-784290341e98",
   "metadata": {},
   "outputs": [],
   "source": []
  }
 ],
 "metadata": {
  "kernelspec": {
   "display_name": "Python 3 (ipykernel)",
   "language": "python",
   "name": "python3"
  },
  "language_info": {
   "codemirror_mode": {
    "name": "ipython",
    "version": 3
   },
   "file_extension": ".py",
   "mimetype": "text/x-python",
   "name": "python",
   "nbconvert_exporter": "python",
   "pygments_lexer": "ipython3",
   "version": "3.11.7"
  }
 },
 "nbformat": 4,
 "nbformat_minor": 5
}

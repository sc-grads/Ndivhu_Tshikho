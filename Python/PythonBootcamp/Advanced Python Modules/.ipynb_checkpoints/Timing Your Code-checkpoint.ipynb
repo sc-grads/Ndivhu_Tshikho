{
 "cells": [
  {
   "cell_type": "code",
   "execution_count": null,
   "id": "fcadd9bb-3514-41b2-b4f8-e19e722ef8c6",
   "metadata": {},
   "outputs": [],
   "source": [
    "# Simply tracking time elapsed.\n",
    "# Using the timeit module.\n",
    "# Special %%timeit \"magic\"  for jupyter notebooks"
   ]
  },
  {
   "cell_type": "code",
   "execution_count": 2,
   "id": "3b25a3b4-c4b3-4942-b46e-40f51bb8b128",
   "metadata": {},
   "outputs": [],
   "source": [
    "def func_one(n):\n",
    "    return[str(num) for num in range(n)]"
   ]
  },
  {
   "cell_type": "code",
   "execution_count": 3,
   "id": "7a18e11c-736a-4083-9dd9-0555ff3253c1",
   "metadata": {},
   "outputs": [
    {
     "data": {
      "text/plain": [
       "['0', '1', '2', '3', '4', '5', '6', '7', '8', '9']"
      ]
     },
     "execution_count": 3,
     "metadata": {},
     "output_type": "execute_result"
    }
   ],
   "source": [
    "func_one(10)"
   ]
  },
  {
   "cell_type": "code",
   "execution_count": 3,
   "id": "e5c40b74-4c5b-4854-8925-91b9163400aa",
   "metadata": {},
   "outputs": [],
   "source": [
    "def func_two(n):\n",
    "    return list(map(str, range(n)))"
   ]
  },
  {
   "cell_type": "code",
   "execution_count": 6,
   "id": "f5496892-9e65-4b9c-909b-908fe3b6bc79",
   "metadata": {},
   "outputs": [
    {
     "data": {
      "text/plain": [
       "['0', '1', '2', '3', '4', '5', '6', '7', '8', '9']"
      ]
     },
     "execution_count": 6,
     "metadata": {},
     "output_type": "execute_result"
    }
   ],
   "source": [
    "func_two(10)"
   ]
  },
  {
   "cell_type": "code",
   "execution_count": 1,
   "id": "bcb8f99a-bc4a-4599-9dc3-e252d2f39079",
   "metadata": {},
   "outputs": [],
   "source": [
    "import time "
   ]
  },
  {
   "cell_type": "code",
   "execution_count": 4,
   "id": "2a7ff4bc-82c0-45d1-be88-b17d990831cd",
   "metadata": {},
   "outputs": [
    {
     "name": "stdout",
     "output_type": "stream",
     "text": [
      "0.001104116439819336\n"
     ]
    }
   ],
   "source": [
    "# CUrrent time before\n",
    "start_time = time.time()\n",
    "# Run code\n",
    "result = func_one(1000)\n",
    "# Current Time after runing the code\n",
    "end_time = time.time()\n",
    "# Elpsed time\n",
    "elapsed_time = end_time - start_time\n",
    "print(elapsed_time)"
   ]
  },
  {
   "cell_type": "code",
   "execution_count": 5,
   "id": "d682d1ce-0f36-455e-8d63-51ea9095d16e",
   "metadata": {},
   "outputs": [
    {
     "name": "stdout",
     "output_type": "stream",
     "text": [
      "0.003130674362182617\n"
     ]
    }
   ],
   "source": [
    "# CUrrent time before\n",
    "start_time = time.time()\n",
    "# Run code\n",
    "result = func_two(1000)\n",
    "# Current Time after runing the code\n",
    "end_time = time.time()\n",
    "# Elpsed time\n",
    "elapsed_time = end_time - start_time\n",
    "print(elapsed_time)"
   ]
  },
  {
   "cell_type": "code",
   "execution_count": 7,
   "id": "30b86ee7-01fa-45a4-b494-8257961d0bcf",
   "metadata": {},
   "outputs": [],
   "source": [
    "import timeit"
   ]
  },
  {
   "cell_type": "code",
   "execution_count": 8,
   "id": "aa14168e-9da8-4e1e-8a96-30da59b4c772",
   "metadata": {},
   "outputs": [],
   "source": [
    "stmt ='''\n",
    "func_one(100)\n",
    "'''"
   ]
  },
  {
   "cell_type": "code",
   "execution_count": 9,
   "id": "b5d516c4-779e-49fb-be8d-8ad8d365a5b5",
   "metadata": {},
   "outputs": [],
   "source": [
    "setup  = '''\n",
    "def func_one(n):\n",
    "    return[str(num) for num in range(n)]\n",
    "'''"
   ]
  },
  {
   "cell_type": "code",
   "execution_count": 11,
   "id": "2d540126-e287-4ef7-82cf-279db5c3deee",
   "metadata": {},
   "outputs": [
    {
     "data": {
      "text/plain": [
       "3.456655300105922"
      ]
     },
     "execution_count": 11,
     "metadata": {},
     "output_type": "execute_result"
    }
   ],
   "source": [
    "timeit.timeit(stmt, setup,number = 100000)"
   ]
  },
  {
   "cell_type": "code",
   "execution_count": 12,
   "id": "6d0ef4ca-ed01-45c6-9f0a-237af9b4a608",
   "metadata": {},
   "outputs": [],
   "source": [
    "stmt2 = '''\n",
    "func_two(100)\n",
    "'''"
   ]
  },
  {
   "cell_type": "code",
   "execution_count": 13,
   "id": "1e68010d-76d9-4282-90d9-4bf8a72f0c2b",
   "metadata": {},
   "outputs": [],
   "source": [
    "setup2 ='''\n",
    "def func_two(n):\n",
    "    return list(map(str, range(n)))\n",
    "'''"
   ]
  },
  {
   "cell_type": "code",
   "execution_count": 14,
   "id": "08fc0b64-d775-4d2a-b0ea-00c1249c84c7",
   "metadata": {},
   "outputs": [
    {
     "data": {
      "text/plain": [
       "2.1622002000221983"
      ]
     },
     "execution_count": 14,
     "metadata": {},
     "output_type": "execute_result"
    }
   ],
   "source": [
    "timeit.timeit(stmt2, setup2,number = 100000)"
   ]
  },
  {
   "cell_type": "code",
   "execution_count": 15,
   "id": "3b5d6940-ffa9-4ceb-9c64-ba72d9cd5415",
   "metadata": {},
   "outputs": [
    {
     "name": "stdout",
     "output_type": "stream",
     "text": [
      "35.6 µs ± 6.49 µs per loop (mean ± std. dev. of 7 runs, 10,000 loops each)\n"
     ]
    }
   ],
   "source": [
    "%%timeit\n",
    "func_one(100)"
   ]
  },
  {
   "cell_type": "code",
   "execution_count": 16,
   "id": "745aa31f-aa4a-40db-b711-abdc946f55e5",
   "metadata": {},
   "outputs": [
    {
     "name": "stdout",
     "output_type": "stream",
     "text": [
      "31.4 µs ± 2.77 µs per loop (mean ± std. dev. of 7 runs, 10,000 loops each)\n"
     ]
    }
   ],
   "source": [
    "%%timeit\n",
    "func_two(100)"
   ]
  },
  {
   "cell_type": "code",
   "execution_count": null,
   "id": "3c922704-8757-4c33-b2ac-4f358e15b481",
   "metadata": {},
   "outputs": [],
   "source": []
  }
 ],
 "metadata": {
  "kernelspec": {
   "display_name": "Python 3 (ipykernel)",
   "language": "python",
   "name": "python3"
  },
  "language_info": {
   "codemirror_mode": {
    "name": "ipython",
    "version": 3
   },
   "file_extension": ".py",
   "mimetype": "text/x-python",
   "name": "python",
   "nbconvert_exporter": "python",
   "pygments_lexer": "ipython3",
   "version": "3.11.7"
  }
 },
 "nbformat": 4,
 "nbformat_minor": 5
}

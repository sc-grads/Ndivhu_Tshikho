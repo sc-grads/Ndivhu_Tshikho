{
 "cells": [
  {
   "cell_type": "markdown",
   "id": "fa62a3d3-5d61-428a-b596-4a9f6b022d00",
   "metadata": {},
   "source": [
    "Datetime Module"
   ]
  },
  {
   "cell_type": "code",
   "execution_count": 1,
   "id": "15dbfbc0-8c3c-4c02-9288-8cfb6f2338d7",
   "metadata": {},
   "outputs": [],
   "source": [
    "import datetime"
   ]
  },
  {
   "cell_type": "code",
   "execution_count": 2,
   "id": "59ddd17a-37ad-4ebd-a782-bd7cbc012b42",
   "metadata": {},
   "outputs": [],
   "source": [
    "mytime = datetime.time(2,20)"
   ]
  },
  {
   "cell_type": "code",
   "execution_count": 3,
   "id": "e55cb2ff-11ac-45ca-a59f-09f5eb36c099",
   "metadata": {},
   "outputs": [
    {
     "data": {
      "text/plain": [
       "20"
      ]
     },
     "execution_count": 3,
     "metadata": {},
     "output_type": "execute_result"
    }
   ],
   "source": [
    "mytime.minute"
   ]
  },
  {
   "cell_type": "code",
   "execution_count": 4,
   "id": "5527a2ab-e025-4932-95c5-29d01989390b",
   "metadata": {},
   "outputs": [
    {
     "data": {
      "text/plain": [
       "2"
      ]
     },
     "execution_count": 4,
     "metadata": {},
     "output_type": "execute_result"
    }
   ],
   "source": [
    "mytime.hour"
   ]
  },
  {
   "cell_type": "code",
   "execution_count": 5,
   "id": "43c3b910-7008-4433-967d-00792f9fbbb7",
   "metadata": {},
   "outputs": [
    {
     "name": "stdout",
     "output_type": "stream",
     "text": [
      "02:20:00\n"
     ]
    }
   ],
   "source": [
    "print(mytime)"
   ]
  },
  {
   "cell_type": "code",
   "execution_count": 6,
   "id": "ee1f291c-ecd3-40e2-ab8c-7d9fc01405d6",
   "metadata": {},
   "outputs": [],
   "source": [
    "today = datetime.date.today()"
   ]
  },
  {
   "cell_type": "code",
   "execution_count": 7,
   "id": "abf1e5e6-3526-4bfc-a395-7a29d9f2515d",
   "metadata": {},
   "outputs": [
    {
     "name": "stdout",
     "output_type": "stream",
     "text": [
      "2024-06-03\n"
     ]
    }
   ],
   "source": [
    "print(today)"
   ]
  },
  {
   "cell_type": "code",
   "execution_count": 8,
   "id": "6b02f2de-3725-44ec-9c27-8758943b890d",
   "metadata": {},
   "outputs": [
    {
     "data": {
      "text/plain": [
       "2024"
      ]
     },
     "execution_count": 8,
     "metadata": {},
     "output_type": "execute_result"
    }
   ],
   "source": [
    "today.year"
   ]
  },
  {
   "cell_type": "code",
   "execution_count": 9,
   "id": "a629dce7-e249-4131-8608-78b0eaca5b5f",
   "metadata": {},
   "outputs": [
    {
     "data": {
      "text/plain": [
       "6"
      ]
     },
     "execution_count": 9,
     "metadata": {},
     "output_type": "execute_result"
    }
   ],
   "source": [
    "today.month"
   ]
  },
  {
   "cell_type": "code",
   "execution_count": 10,
   "id": "86232037-e391-42aa-ae6d-ef0ee8c5e2a9",
   "metadata": {},
   "outputs": [
    {
     "data": {
      "text/plain": [
       "3"
      ]
     },
     "execution_count": 10,
     "metadata": {},
     "output_type": "execute_result"
    }
   ],
   "source": [
    "today.day\n"
   ]
  },
  {
   "cell_type": "code",
   "execution_count": 12,
   "id": "a074a7c0-7460-4920-affd-c3eabd1b052d",
   "metadata": {},
   "outputs": [
    {
     "data": {
      "text/plain": [
       "'Mon Jun  3 00:00:00 2024'"
      ]
     },
     "execution_count": 12,
     "metadata": {},
     "output_type": "execute_result"
    }
   ],
   "source": [
    "today.ctime()"
   ]
  },
  {
   "cell_type": "code",
   "execution_count": 13,
   "id": "08e15a8d-0e90-4e72-be2e-e6634a892b63",
   "metadata": {},
   "outputs": [],
   "source": [
    "from datetime import datetime"
   ]
  },
  {
   "cell_type": "code",
   "execution_count": 17,
   "id": "05186f5a-cf20-4a3d-8b11-d792a9e11f36",
   "metadata": {},
   "outputs": [],
   "source": [
    "mydatetime= datetime(2024,6,4,15,49)"
   ]
  },
  {
   "cell_type": "code",
   "execution_count": 18,
   "id": "147b12e2-49dd-4eef-a780-cacbf5a1e327",
   "metadata": {},
   "outputs": [
    {
     "name": "stdout",
     "output_type": "stream",
     "text": [
      "2024-06-04 15:49:00\n"
     ]
    }
   ],
   "source": [
    "print(mydatetime)"
   ]
  },
  {
   "cell_type": "code",
   "execution_count": null,
   "id": "18e0254b-455c-4e60-b8be-71b8a1fc895a",
   "metadata": {},
   "outputs": [],
   "source": [
    "#date\n",
    "date1 = date"
   ]
  },
  {
   "cell_type": "code",
   "execution_count": 19,
   "id": "c62fcec8-a7da-4f29-af06-aac93cb6bc74",
   "metadata": {},
   "outputs": [
    {
     "data": {
      "text/plain": [
       "'C:\\\\Users\\\\NdivhudzannyiT'"
      ]
     },
     "execution_count": 19,
     "metadata": {},
     "output_type": "execute_result"
    }
   ],
   "source": [
    "pwd"
   ]
  }
 ],
 "metadata": {
  "kernelspec": {
   "display_name": "Python 3 (ipykernel)",
   "language": "python",
   "name": "python3"
  },
  "language_info": {
   "codemirror_mode": {
    "name": "ipython",
    "version": 3
   },
   "file_extension": ".py",
   "mimetype": "text/x-python",
   "name": "python",
   "nbconvert_exporter": "python",
   "pygments_lexer": "ipython3",
   "version": "3.11.7"
  }
 },
 "nbformat": 4,
 "nbformat_minor": 5
}
